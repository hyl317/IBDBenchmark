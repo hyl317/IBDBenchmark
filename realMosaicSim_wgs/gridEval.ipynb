{
 "cells": [
  {
   "cell_type": "code",
   "execution_count": 2,
   "metadata": {},
   "outputs": [],
   "source": [
    "import pandas as pd\n",
    "from utility import *\n",
    "from scipy.stats import sem\n"
   ]
  },
  {
   "cell_type": "code",
   "execution_count": 3,
   "metadata": {},
   "outputs": [],
   "source": [
    "# several metrics to consider\n",
    "# mean length bias\n",
    "# power\n",
    "# false positive rate for various lengths(# of FP per pair of samples)\n",
    "\n",
    "cov = 'cov1over4'\n",
    "ibd_ins = [0.1, 1, 10]\n",
    "ibd_outs = [1, 10, 50]\n",
    "ibd_jumps = [100, 250, 500, 1000]\n",
    "gaps = [0.005, 0.0075, 0.01]\n",
    "post_cutoffs = [0.99, 0.995, 0.999]\n",
    "\n",
    "for cov in ['cov1', 'cov1over2', 'cov1over4']:\n",
    "    metrics = []\n",
    "    for i, ibd_in in enumerate(ibd_ins):\n",
    "        for j, ibd_out in enumerate(ibd_outs):\n",
    "            for k, ibd_jump in enumerate(ibd_jumps):\n",
    "                for m, gap in enumerate(gaps):\n",
    "                    for n, cutoff in enumerate(post_cutoffs):\n",
    "                        ret, power = lengthCalledOneBatch(f'./grid/{cov}/ch3_12cm/ibd_in{i}_ibd_out{j}_ibd_jump{k}_gap{m}_cutoff_post{n}/ch3.tsv', \\\n",
    "                                './simGeno/ch3_12cm/ibd_info.csv')\n",
    "                        df_fp = pd.read_csv(f'./grid/{cov}/ch3_0cm/ibd_in{i}_ibd_out{j}_ibd_jump{k}_gap{m}_cutoff_post{n}/ch3.tsv', sep='\\t')\n",
    "                        df_rate6 = len(df_fp[df_fp['lengthM']>=0.06])/500\n",
    "                        df_rate8 = len(df_fp[df_fp['lengthM']>=0.08])/500\n",
    "                        df_rate10 = len(df_fp[df_fp['lengthM']>=0.1])/500\n",
    "                        df_rate12 = len(df_fp[df_fp['lengthM']>=0.12])/500\n",
    "                        metrics.append([ibd_in, ibd_out, ibd_jump, gap, cutoff, df_rate6, df_rate8, df_rate10, df_rate12, power, np.mean(ret), sem(ret)])\n",
    "    \n",
    "    df = pd.DataFrame(metrics, columns=['ibd_in', 'ibd_out', 'ibd_jump', 'max_gap_merge', 'post_cutoff', \\\n",
    "            'FP(>=6cM)', 'FP(>=8cM)', 'FP(>=10cM)', 'FP(>=12cM)', 'power', 'mean inferred IBD lengths', 'SE of inferred IBD lengths'])\n",
    "    df.to_csv(f'./grid/grid.wgs.{cov}.csv')"
   ]
  },
  {
   "cell_type": "code",
   "execution_count": null,
   "metadata": {},
   "outputs": [],
   "source": []
  }
 ],
 "metadata": {
  "kernelspec": {
   "display_name": "Python 3",
   "language": "python",
   "name": "python3"
  },
  "language_info": {
   "codemirror_mode": {
    "name": "ipython",
    "version": 3
   },
   "file_extension": ".py",
   "mimetype": "text/x-python",
   "name": "python",
   "nbconvert_exporter": "python",
   "pygments_lexer": "ipython3",
   "version": "3.8.10"
  },
  "orig_nbformat": 4,
  "vscode": {
   "interpreter": {
    "hash": "916dbcbb3f70747c44a77c7bcd40155683ae19c65e1c03b4aa3499c5328201f1"
   }
  }
 },
 "nbformat": 4,
 "nbformat_minor": 2
}
