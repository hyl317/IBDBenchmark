{
 "cells": [
  {
   "cell_type": "code",
   "execution_count": 8,
   "metadata": {},
   "outputs": [
    {
     "name": "stdout",
     "output_type": "stream",
     "text": [
      "12.310300570534018\n",
      "498\n"
     ]
    }
   ],
   "source": [
    "import h5py\n",
    "import numpy as np\n",
    "import sys\n",
    "sys.path.insert(0, '/mnt/archgen/users/yilei/tools/ancIBD/package/ancIBD')\n",
    "from run import hapBLOCK_chroms\n",
    "\n",
    "in_path = f\"/mnt/archgen/users/yilei/IBDsim/realMosaicSim_ancwgsVSmod/simGeno/ch3_12cm/sim_cov1over4_wgs_ch3.h5\" # The default dataset\n",
    "\n",
    "with h5py.File(in_path, 'r') as f:\n",
    "    iids = f['samples'][:].astype('str')\n",
    "        \n",
    "run_iids = []\n",
    "for i in np.arange(len(iids), step=2):\n",
    "    run_iids.append([iids[i], iids[i+1]])\n",
    "\n",
    "df = hapBLOCK_chroms(folder_in=f\"/mnt/archgen/users/yilei/IBDsim/realMosaicSim_ancwgsVSmod/simGeno/ch3_12cm/sim_cov1over2_wgs_ch\", \\\n",
    "            iids = iids, run_iids = run_iids, \n",
    "            ch=3, folder_out=f'./calledIBD_asym/ch3_12cm/', output=False, prefix_out='', logfile=False,\n",
    "            l_model='hdf5', e_model='haploid_gl', h_model='asymmetric', t_model='asymmetric',\n",
    "            ibd_in=1, ibd_out=10, ibd_jump=400, ibd_jump2=0.001, p_col='variants/AF_ALL',\n",
    "            min_cm=10, cutoff_post=0.99, max_gap=0.0075, processes=1)\n",
    "\n",
    "print(100*np.mean(df['lengthM']))\n",
    "print(len(df))"
   ]
  },
  {
   "cell_type": "code",
   "execution_count": 9,
   "metadata": {},
   "outputs": [
    {
     "name": "stdout",
     "output_type": "stream",
     "text": [
      "12.423107077103317\n"
     ]
    }
   ],
   "source": [
    "\n",
    "df = hapBLOCK_chroms(folder_in=f\"/mnt/archgen/users/yilei/IBDsim/realMosaicSim_ancwgsVSmod/simGeno/ch3_12cm/sim_cov1over4_wgs_ch\", \\\n",
    "            iids = iids, run_iids = run_iids, \n",
    "            ch=3, folder_out=f'./calledIBD/ch3_12cm/', output=False, prefix_out='', logfile=False,\n",
    "            l_model='hdf5', e_model='haploid_gl', h_model='FiveStateScaled', t_model='standard',\n",
    "            ibd_in=1, ibd_out=10, ibd_jump=400, p_col='variants/AF_ALL',\n",
    "            min_cm=10, cutoff_post=0.99, max_gap=0.0075, processes=1)\n",
    "\n",
    "print(100*np.mean(df['lengthM']))\n"
   ]
  }
 ],
 "metadata": {
  "kernelspec": {
   "display_name": "Python 3",
   "language": "python",
   "name": "python3"
  },
  "language_info": {
   "codemirror_mode": {
    "name": "ipython",
    "version": 3
   },
   "file_extension": ".py",
   "mimetype": "text/x-python",
   "name": "python",
   "nbconvert_exporter": "python",
   "pygments_lexer": "ipython3",
   "version": "3.8.10"
  },
  "orig_nbformat": 4,
  "vscode": {
   "interpreter": {
    "hash": "31f2aee4e71d21fbe5cf8b01ff0e069b9275f58929596ceb00d14d90e3e16cd6"
   }
  }
 },
 "nbformat": 4,
 "nbformat_minor": 2
}
