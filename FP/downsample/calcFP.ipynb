{
 "cells": [
  {
   "cell_type": "code",
   "execution_count": 2,
   "metadata": {},
   "outputs": [],
   "source": [
    "import pandas as pd\n",
    "import numpy as np"
   ]
  },
  {
   "attachments": {},
   "cell_type": "markdown",
   "metadata": {},
   "source": [
    "# 1240k"
   ]
  },
  {
   "cell_type": "code",
   "execution_count": null,
   "metadata": {},
   "outputs": [],
   "source": [
    "df_ibds = []\n",
    "for b in np.arange(1,51):\n",
    "    df = pd.read_csv(f'./1240k/cov2/batch{b}/ch3.tsv', sep='\\t')\n",
    "    df_ibds.append(df)\n",
    "\n",
    "df_ibd = pd.concat(df_ibds)\n"
   ]
  },
  {
   "cell_type": "code",
   "execution_count": 6,
   "metadata": {},
   "outputs": [
    {
     "name": "stdout",
     "output_type": "stream",
     "text": [
      "0.3902564102564103\n",
      "0.08692307692307692\n",
      "0.01358974358974359\n",
      "0.005128205128205128\n"
     ]
    }
   ],
   "source": [
    "npairs = 50*(13*12)/2\n",
    "df_ibd = df_ibd[ (df_ibd['End'] - df_ibd['Start'])/(100*df_ibd['lengthM']) >= 220]\n",
    "df_ibd6 = df_ibd[df_ibd['lengthM'] > 0.06]\n",
    "df_ibd8 = df_ibd[df_ibd['lengthM'] > 0.08]\n",
    "df_ibd10 = df_ibd[df_ibd['lengthM'] > 0.1]\n",
    "df_ibd12 = df_ibd[df_ibd['lengthM'] > 0.12]\n",
    "\n",
    "print(len(df_ibd6)/npairs)\n",
    "print(len(df_ibd8)/npairs)\n",
    "print(len(df_ibd10)/npairs)\n",
    "print(len(df_ibd12)/npairs)"
   ]
  }
 ],
 "metadata": {
  "kernelspec": {
   "display_name": "Python 3",
   "language": "python",
   "name": "python3"
  },
  "language_info": {
   "codemirror_mode": {
    "name": "ipython",
    "version": 3
   },
   "file_extension": ".py",
   "mimetype": "text/x-python",
   "name": "python",
   "nbconvert_exporter": "python",
   "pygments_lexer": "ipython3",
   "version": "3.8.10"
  },
  "orig_nbformat": 4,
  "vscode": {
   "interpreter": {
    "hash": "916dbcbb3f70747c44a77c7bcd40155683ae19c65e1c03b4aa3499c5328201f1"
   }
  }
 },
 "nbformat": 4,
 "nbformat_minor": 2
}
