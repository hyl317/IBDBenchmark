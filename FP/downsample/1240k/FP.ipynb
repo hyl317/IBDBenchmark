{
 "cells": [
  {
   "cell_type": "code",
   "execution_count": null,
   "metadata": {},
   "outputs": [],
   "source": [
    "# examine FP rate across different coverage"
   ]
  },
  {
   "cell_type": "code",
   "execution_count": 5,
   "metadata": {},
   "outputs": [
    {
     "name": "stdout",
     "output_type": "stream",
     "text": [
      "3585\n",
      "2430\n",
      "[1.72046917e-04 2.03386318e-04 1.80361452e-04 1.88036407e-04\n",
      " 1.50940790e-04 1.05530637e-04 1.20240968e-04 6.07600636e-05\n",
      " 7.41912356e-05 4.41309936e-05 3.51768789e-05 2.81415032e-05\n",
      " 4.54101528e-05 1.98269681e-05 3.77351974e-05 3.64560382e-05\n",
      " 1.66290700e-05 4.47705732e-06 1.02332739e-05 2.55831847e-06\n",
      " 1.91873885e-06 0.00000000e+00 6.39579617e-07 3.19789809e-06]\n",
      "319\n",
      "236\n",
      "[3.00602420e-05 4.98872101e-05 7.03537579e-06 3.13394012e-05\n",
      " 1.34311720e-05 7.03537579e-06 7.67495541e-06 1.91873885e-06\n",
      " 6.39579617e-07 0.00000000e+00 0.00000000e+00 0.00000000e+00\n",
      " 1.27915923e-06 0.00000000e+00 6.39579617e-07 0.00000000e+00\n",
      " 0.00000000e+00 0.00000000e+00 0.00000000e+00 0.00000000e+00\n",
      " 0.00000000e+00 0.00000000e+00 0.00000000e+00 0.00000000e+00]\n",
      "60\n",
      "54\n",
      "[3.44389025e-05 9.47069818e-06 0.00000000e+00 1.72194512e-06\n",
      " 0.00000000e+00 0.00000000e+00 8.60972561e-07 0.00000000e+00\n",
      " 0.00000000e+00 0.00000000e+00 0.00000000e+00 0.00000000e+00\n",
      " 0.00000000e+00 0.00000000e+00 0.00000000e+00 0.00000000e+00\n",
      " 0.00000000e+00 0.00000000e+00 0.00000000e+00 0.00000000e+00\n",
      " 0.00000000e+00 0.00000000e+00 0.00000000e+00 0.00000000e+00]\n"
     ]
    },
    {
     "data": {
      "image/png": "[encoded data removed]",
      "text/plain": [
       "<Figure size 432x288 with 1 Axes>"
      ]
     },
     "metadata": {
      "needs_background": "light"
     },
     "output_type": "display_data"
    }
   ],
   "source": [
    "import numpy as np\n",
    "import pandas as pd\n",
    "import matplotlib.pyplot as plt\n",
    "from scipy.interpolate import interp1d\n",
    "from scipy.ndimage import gaussian_filter1d\n",
    "import pickle\n",
    "\n",
    "step = 0.25\n",
    "bins = np.arange(6, 25, step)\n",
    "binmidpoint = (bins[1:]+bins[:-1])/2\n",
    "\n",
    "cov2label={'cov1':'1x', 'cov2':'2x', 'cov3':'3x'}\n",
    "colors = ['#f77f00', '#d62828', '#003049']\n",
    "\n",
    "pairs2exclude = [('I4893', 'I1507'), ('I4893', 'I5077'), ('I4596', 'I1507'), \\\n",
    "                ('I4596', 'I5233'), ('I1583', 'I3758'), ('I1583', 'I5233'), \\\n",
    "                ('I1507', 'I5233'), ('I3758', 'I5233')]\n",
    "\n",
    "for cov, color in zip(cov2label.keys(), colors):\n",
    "    dfs = []\n",
    "    for b in np.arange(1,101):\n",
    "        dfs.append(pd.read_csv(f'./{cov}/batch{b}/ch3.tsv', sep='\\t'))\n",
    "    data = pd.concat(dfs)\n",
    "    for pair in pairs2exclude:\n",
    "        id1, id2 = pair\n",
    "        data = data[~((data['iid1'] == id1) & (data['iid2'] == id2))]\n",
    "        data = data[~((data['iid1'] == id2) & (data['iid2'] == id1))]\n",
    "    print(len(data))\n",
    "    data = data[(data['End']-data['Start'])/(100*data['lengthM']) > 220]\n",
    "    print(len(data))\n",
    "    fps = np.array(data['lengthM'])\n",
    "    fps = 100*np.array(fps) # convert to cM \n",
    "    y, _ = np.histogram(fps, bins=bins)\n",
    "    if cov == 'cov3':\n",
    "        # I5233, I5077 are not included in 3x downsampling,\n",
    "        # so 5 of the pairs from excluded list do not apply here\n",
    "        npairs = (11*10/2 - len(pairs2exclude)+5)*100\n",
    "    else:\n",
    "        npairs = (13*12/2 - len(pairs2exclude))*100\n",
    "    y = y/(4*223.361*step*npairs) # convert to rate per haplotype pairs, per centiMorgan\n",
    "    #plt.plot(binmidpoint, y)\n",
    "    y_smoothed = gaussian_filter1d(y, 2)\n",
    "    f = interp1d(binmidpoint, y_smoothed, fill_value='extrapolate')\n",
    "    pickle.dump(f, open(f'FP.{cov}', 'wb'))\n",
    "    print(y[:24])\n",
    "    plt.scatter(binmidpoint[:24], y[:24], marker='.', color=color)\n",
    "    plt.plot(binmidpoint[:24], f(binmidpoint[:24]), label=f'{cov2label[cov]}', color=color)\n",
    "\n",
    "plt.legend(loc='upper right')\n",
    "plt.xlabel('Segment Length(cM)')\n",
    "plt.ylabel('Density of False Positive per haplotype pair per cM')\n",
    "plt.ylim([0, 0.0005])\n",
    "plt.savefig('FP_rate.png', dpi=300, bbox_inches=\"tight\")\n",
    "plt.savefig('FP_rate.pdf', bbox_inches=\"tight\")"
   ]
  }
 ],
 "metadata": {
  "kernelspec": {
   "display_name": "Python 3.8.10 64-bit",
   "language": "python",
   "name": "python3"
  },
  "language_info": {
   "codemirror_mode": {
    "name": "ipython",
    "version": 3
   },
   "file_extension": ".py",
   "mimetype": "text/x-python",
   "name": "python",
   "nbconvert_exporter": "python",
   "pygments_lexer": "ipython3",
   "version": "3.8.10"
  },
  "orig_nbformat": 4,
  "vscode": {
   "interpreter": {
    "hash": "31f2aee4e71d21fbe5cf8b01ff0e069b9275f58929596ceb00d14d90e3e16cd6"
   }
  }
 },
 "nbformat": 4,
 "nbformat_minor": 2
}
