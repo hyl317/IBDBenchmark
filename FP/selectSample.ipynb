{
 "cells": [
  {
   "cell_type": "markdown",
   "metadata": {},
   "source": [
    "# select a set of samples that shaer no IBD"
   ]
  },
  {
   "cell_type": "code",
   "execution_count": 3,
   "metadata": {},
   "outputs": [
    {
     "name": "stdout",
     "output_type": "stream",
     "text": [
      "{'I7421.trim5.ch3.bam'}\n",
      "['I4893', 'I4596.trim5.ch3.bam', 'I1583.trim5.ch3.bam', 'I5279', 'I3949', 'I2978.trim5.ch3.bam', 'I5838.trim5.ch3.bam', 'I2514.trim5.ch3.bam', 'I1507.trim5.ch3.bam', 'I2861.trim5.ch3.bam', 'I2520.trim5.ch3.bam', 'I3758.trim5.ch3.bam', 'I5077.trim5.ch3.bam', 'I0708.trim5.ch3.bam', 'I5233.trim5.ch3.bam', 'I3123', 'I2510.trim5.ch3.bam']\n",
      "{'I10871'}\n",
      "{'I1496.trim5.ch3.bam'}\n",
      "{'I1631.trim5.ch3.bam'}\n",
      "{'I1632.trim5.ch3.bam'}\n",
      "{'I1633.trim5.ch3.bam'}\n",
      "{'I1960.trim5.ch3.bam'}\n",
      "{'I4315.trim5.ch3.bam'}\n",
      "{'I4634.trim5.ch3.bam'}\n",
      "{'I5319.trim5.ch3.bam'}\n",
      "{'I5950.trim5.ch3.bam'}\n"
     ]
    }
   ],
   "source": [
    "import networkx as nx\n",
    "\n",
    "# initialize graphs\n",
    "G = nx.Graph()\n",
    "with open('AGDP.ch3.fam') as f:\n",
    "    for line in f:\n",
    "        iid, *_ = line.strip().split()\n",
    "        G.add_node(iid)\n",
    "\n",
    "# add edge between two nodes if they represent a close relative pair\n",
    "with open('AGDP.ch3.seg') as f:\n",
    "    for line in f:\n",
    "        id1, id2, *_ = line.strip().split()\n",
    "        G.add_edge(id1, id2)\n",
    "\n",
    "# identify connected components in the family graph, and pick the sample with the highest coverage from each connected component\n",
    "iid_unrelated = set()\n",
    "for components in nx.connected_components(G):\n",
    "    if len(components) == 1:\n",
    "        print(components)\n",
    "    else:\n",
    "        MIS = nx.maximal_independent_set(nx.subgraph(G, components))\n",
    "        print(MIS)"
   ]
  },
  {
   "cell_type": "code",
   "execution_count": 6,
   "metadata": {},
   "outputs": [
    {
     "name": "stderr",
     "output_type": "stream",
     "text": [
      "[mpileup] 1 samples in 1 input files\n",
      "[mpileup] 1 samples in 1 input files\n",
      "[mpileup] 1 samples in 1 input files\n",
      "[mpileup] 1 samples in 1 input files\n",
      "[mpileup] 1 samples in 1 input files\n",
      "[mpileup] 1 samples in 1 input files\n",
      "[mpileup] 1 samples in 1 input files\n",
      "[mpileup] 1 samples in 1 input files\n",
      "[mpileup] 1 samples in 1 input files\n",
      "[mpileup] 1 samples in 1 input files\n",
      "[mpileup] 1 samples in 1 input files\n",
      "[mpileup] 1 samples in 1 input files\n",
      "[mpileup] 1 samples in 1 input files\n"
     ]
    }
   ],
   "source": [
    "import subprocess\n",
    "\n",
    "path2BED='/mnt/archgen/users/yilei/Data/1000G/1000g1240khdf5/all1240/target/1240kChr3.target.bed'\n",
    "iids = ['I4893', 'I4596', 'I1583', 'I2978', 'I5838', 'I1507', 'I2861', 'I2520', 'I3758', 'I5077', 'I0708', 'I5233', 'I3123']\n",
    "for iid in iids:\n",
    "    command = f'samtools mpileup -o ./mpileup/{iid}.mpileup -q 30 -Q 30 --positions {path2BED} /mnt/archgen/users/yilei/IBDsim/BAM/1240k/{iid}.bam'\n",
    "    subprocess.Popen(command.split(), stdout=subprocess.PIPE)"
   ]
  },
  {
   "cell_type": "code",
   "execution_count": 8,
   "metadata": {},
   "outputs": [
    {
     "name": "stdout",
     "output_type": "stream",
     "text": [
      "I4893: 5.140266831504662\n",
      "I4596: 4.271261525781693\n",
      "I1583: 9.208288260444032\n",
      "I2978: 4.476059856796992\n",
      "I5838: 5.287680935455622\n",
      "I1507: 4.703742337608819\n",
      "I2861: 4.77109411219286\n",
      "I2520: 5.758319167568125\n",
      "I3758: 4.6989517333745425\n",
      "I5077: 3.2091124504198216\n",
      "I0708: 7.472801730798949\n",
      "I5233: 2.728043063926235\n",
      "I3123: 5.120254468655025\n"
     ]
    }
   ],
   "source": [
    "import numpy as np\n",
    "\n",
    "def computeAverageCovDepth(path2pileup):\n",
    "    depths = []\n",
    "    with open(path2pileup) as f:\n",
    "        for line in f:\n",
    "            _, _, _, depth, *_ = line.strip().split()\n",
    "            depths.append(int(depth))\n",
    "    return np.sum(depths)/77652\n",
    "\n",
    "for iid in iids:\n",
    "    avgCov = computeAverageCovDepth(f'./mpileup/{iid}.mpileup')\n",
    "    print(f'{iid}: {avgCov}')"
   ]
  }
 ],
 "metadata": {
  "kernelspec": {
   "display_name": "Python 3",
   "language": "python",
   "name": "python3"
  },
  "language_info": {
   "codemirror_mode": {
    "name": "ipython",
    "version": 3
   },
   "file_extension": ".py",
   "mimetype": "text/x-python",
   "name": "python",
   "nbconvert_exporter": "python",
   "pygments_lexer": "ipython3",
   "version": "3.8.10"
  },
  "orig_nbformat": 4,
  "vscode": {
   "interpreter": {
    "hash": "916dbcbb3f70747c44a77c7bcd40155683ae19c65e1c03b4aa3499c5328201f1"
   }
  }
 },
 "nbformat": 4,
 "nbformat_minor": 2
}
