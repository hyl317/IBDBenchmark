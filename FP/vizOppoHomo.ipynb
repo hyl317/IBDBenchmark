{
 "cells": [
  {
   "cell_type": "markdown",
   "metadata": {},
   "source": [
    "# run hapBLOCK on diploid gt vcf"
   ]
  },
  {
   "cell_type": "code",
   "execution_count": 1,
   "metadata": {},
   "outputs": [],
   "source": [
    "import sys\n",
    "sys.path.append('/mnt/archgen/users/yilei/tools/ancIBD/python3')\n",
    "from IO.h5_modify import merge_in_af, get_af, get_af1000G, lift_af, save_h5, get_af1000G_atGivenPos"
   ]
  },
  {
   "cell_type": "code",
   "execution_count": 2,
   "metadata": {},
   "outputs": [],
   "source": [
    "import numpy as np\n",
    "import h5py\n",
    "import pandas as pd\n",
    "\n",
    "def merge_in_ld_map(path_h5, path_snp1240k, chs=range(1,23), write_mode=\"a\"):\n",
    "    \"\"\"Merge in MAP from eigenstrat .snp file into\n",
    "    hdf5 file. Save modified h5 in place \n",
    "    path_h5: Path to hdf5 file to modify.\n",
    "    path_snp1240k: Path to Eigenstrat .snp file whose map to use\n",
    "    chs: Which Chromosomes to merge in HDF5 [list].\n",
    "    write_mode: Which mode to use on hdf5. a: New field. r+: Change Field\"\"\"\n",
    "    with h5py.File(path_h5, \"r\") as f:\n",
    "        print(\"Lifting LD Map from eigenstrat to HDF5...\")\n",
    "        print(\"Loaded %i variants.\" % np.shape(f[\"calldata/GT\"])[0])\n",
    "        print(\"Loaded %i individuals.\" % np.shape(f[\"calldata/GT\"])[1])\n",
    "\n",
    "        ### Load Eigenstrat\n",
    "        df_snp = pd.read_csv(path_snp1240k, header=None, sep=r\"\\s+\", engine=\"python\")\n",
    "        df_snp.columns = [\"SNP\", \"chr\", \"map\", \"pos\", \"ref\", \"alt\"]\n",
    "\n",
    "        rec = np.zeros(len(f[\"variants/POS\"]))  # Create the array for vector\n",
    "\n",
    "        for ch in chs:\n",
    "            df_t = df_snp[df_snp[\"chr\"] == ch]\n",
    "            print(f\"Loaded {len(df_t)} Chr.{ch} 1240K SNPs.\")\n",
    "\n",
    "            idx_f = f[\"variants/CHROM\"][:].astype(\"str\")==str(ch)\n",
    "            if np.sum(idx_f)==0:  # If no markers found jump to next chromosome\n",
    "                print(\"Did not find any markers...\")\n",
    "                continue\n",
    "            rec_ch = np.zeros(len(idx_f), dtype=\"float\")\n",
    "\n",
    "            ### Intersect SNP positions\n",
    "            its, i1, i2 = np.intersect1d(f[\"variants/POS\"][idx_f], df_t[\"pos\"], return_indices=True)\n",
    "\n",
    "            l = np.sum(idx_f)\n",
    "            print(f\"Intersection {len(i2)} out of {l} HDF5 SNPs\")\n",
    "\n",
    "            ### Extract Map positions\n",
    "            rec_ch[i1] = df_t[\"map\"].values[i2]  # Fill in the values in Recombination map\n",
    "\n",
    "            ### Interpolate if Needed (map position still 0)\n",
    "            itp_idx = (rec_ch == 0)\n",
    "            if np.sum(itp_idx) > 0:   # In case we have to interpolate\n",
    "                print(f\"Interpolating {np.sum(itp_idx)} variants.\")\n",
    "                x = df_t[\"pos\"] \n",
    "                y = df_t[\"map\"]   \n",
    "                x1 = f[\"variants/POS\"][:][idx_f]  # Extract all positions of interest\n",
    "                assert(np.all(np.diff(x) > 0))\n",
    "                rec_ch = np.interp(x1, x, y)\n",
    "\n",
    "            \n",
    "            ### Make sure that sorted\n",
    "            assert(np.all(np.diff(rec_ch)>=0))  # Assert the Recombination Map is sorted! (no 0 left and no funky stuff)\n",
    "            rec[idx_f]=rec_ch # Set the Map position for chromosome indices\n",
    "            print(f\"Finished Chromosome {ch}.\")\n",
    "    \n",
    "    ### Now create the new column in hdf5\n",
    "    print(\"Adding map to HDF5...\")\n",
    "    with h5py.File(path_h5, write_mode) as f0:\n",
    "        group = f0[\"variants\"]\n",
    "        l = len(f0[\"variants/POS\"])\n",
    "        if write_mode == \"a\":  # If appending new data\n",
    "            group.create_dataset('MAP', (l,), dtype='f')   \n",
    "        f0[\"variants/MAP\"][:] = rec[:]\n",
    "    print(\"We did it. Finished.\")\n",
    "\n",
    "import allel\n",
    "def vcf_to_1240K_hdf(in_vcf_path = \"/n/groups/reich/ali/WholeGenomeImputation/imputed/v43.4/chr3.bcf\",\n",
    "                     path_vcf = \"./data/vcf/1240k_v43/ch3.vcf.gz\",\n",
    "                     path_h5 = \"./data/hdf5/1240k_v43/ch3.h5\",\n",
    "                     map_path=\"/n/groups/reich/DAVID/V43/V43.5/v43.5.snp\",\n",
    "                     ch=3):\n",
    "    \"\"\"Convert Ali's vcf to 1240K hdf5. \n",
    "    If marker_path empty, no SNP filtering done.\n",
    "    If map_path empty, no genetic map is merged in.\n",
    "    \"\"\" \n",
    "    path_vcf = in_vcf_path # Use the unfiltered input in next step\n",
    "    \n",
    "    allel.vcf_to_hdf5(input=path_vcf, output=path_h5, \n",
    "                  fields = ['variants/*', 'calldata/*', \"samples\"], compression=\"gzip\") # Do the conversion to hdf5. Takes hours\n",
    "    print(\"Finished conversion to hdf5!\")\n",
    "    \n",
    "    if len(map_path)>0:\n",
    "        merge_in_ld_map(path_h5=path_h5, \n",
    "                    path_snp1240k=map_path,\n",
    "                    chs=[ch])"
   ]
  },
  {
   "cell_type": "code",
   "execution_count": 16,
   "metadata": {},
   "outputs": [
    {
     "name": "stdout",
     "output_type": "stream",
     "text": [
      "Finished conversion to hdf5!\n",
      "Lifting LD Map from eigenstrat to HDF5...\n",
      "Loaded 125299 variants.\n",
      "Loaded 52 individuals.\n",
      "Loaded 81416 Chr.3 1240K SNPs.\n",
      "Intersection 11234 out of 125299 HDF5 SNPs\n",
      "Interpolating 114065 variants.\n",
      "Finished Chromosome 3.\n",
      "Adding map to HDF5...\n",
      "We did it. Finished.\n"
     ]
    }
   ],
   "source": [
    "    \n",
    "in_vcf_path = \"AGDP.ch3.GP99.MAF5.tvOnly.vcf.gz\"\n",
    "path_h5 = \"AGDP.ch3.MAF5.tvOnly.h5\"\n",
    "map_path = '/mnt/archgen/users/yilei/bin/ancIBD_data/afs/v51.1_1240k.snp'\n",
    "    \n",
    "vcf_to_1240K_hdf(in_vcf_path = in_vcf_path, path_vcf = \"\", path_h5=path_h5,\n",
    "                map_path = map_path, ch=3)\n",
    "\n",
    "\n"
   ]
  },
  {
   "cell_type": "markdown",
   "metadata": {},
   "source": [
    "# visualize "
   ]
  },
  {
   "cell_type": "code",
   "execution_count": 1,
   "metadata": {},
   "outputs": [],
   "source": [
    "import matplotlib.pyplot as plt\n",
    "\n",
    "def plot_hets(ax, het_m, het, alpha=0.3, ms=1, het_c=\"slateblue\",\n",
    "              ylabel = \"Opp. Homozygotes (no/yes)\", fs_l=12, ylim=[]):\n",
    "    \"\"\"Plot Heterozygote Markers onto Axis\"\"\"\n",
    "    ax2 = ax.twinx()\n",
    "    ax2.plot(het_m*100, (het * 1.1 - 0.05), \"o\", ms=ms, alpha=alpha, zorder=0, color=het_c)\n",
    "    ax2.set_yticks([-0.05, 1.05])\n",
    "    ax2.set_yticklabels([])\n",
    "    ax2.set_ylabel(ylabel, fontsize=fs_l, color=het_c)\n",
    "    if len(ylim)>0:\n",
    "        ax2.set_ylim(ylim)\n",
    "\n",
    "\n",
    "def plot_posterior(ax=0, morgan=[], het=[], het_m=[], \n",
    "                   df_ibd=None, state=0, figsize=(12,3), \n",
    "                   xlim=[], ylim=[-0.08,1.27], ylabel=\"Posterior\", xlabel=\"Position\",\n",
    "                   c=\"maroon\", het_c=\"gray\", c_truth=\"green\", ms=1,\n",
    "                   lw=3, lw_ibd=10, c_ibd=\"slateblue\", y_ibd=1.2, dpi=400, \n",
    "                   fs_l=12, show=True, min_cm=4, title=\"\", savepath=\"\"):\n",
    "    \"\"\"Plot Posterior [k,l] array. If morgan given, plot in centimorgan.\n",
    "    Can then also plot hapROH formatted IBD blocks (df_ibd).\n",
    "    And plot ground truth hapROH formatted IBD blocks (df_truth).\n",
    "    If het is given [array boolean], plot het using het_m coordinates\"\"\"\n",
    "    if ax==0:\n",
    "        plt.figure(figsize=figsize)\n",
    "        ax=plt.gca()\n",
    "    #ax.plot(morgan*100, post[state,:], color=c, lw=lw)\n",
    "    ax.set_yticks([0., 0.2, 0.4, 0.6, 0.8, 1.0])\n",
    "    ### Do optional plotting\n",
    "    # Hets\n",
    "    if len(xlabel)>0:\n",
    "        ax.set_xlabel(xlabel, fontsize=fs_l)\n",
    "    if len(ylabel)>0:\n",
    "        ax.set_ylabel(ylabel, fontsize=fs_l)\n",
    "    if len(xlim)>0:\n",
    "        ax.set_xlim(xlim)\n",
    "    if len(ylim)>0:\n",
    "        ax.set_ylim(ylim)\n",
    "    if len(het)>0:\n",
    "        plot_hets(ax, het_m, het, ms=ms, het_c=het_c, fs_l=fs_l, ylim=ylim)\n",
    "    if len(title)>0:\n",
    "        ax.set_title(title, fontsize=fs_l)\n",
    "    if len(df_ibd)>0:\n",
    "        ax.hlines(y=[y_ibd]*len(df_ibd), xmin = 100*df_ibd[\"StartM\"], xmax = 100*df_ibd[\"EndM\"], \n",
    "                        colors=c_ibd, linewidth=lw_ibd)\n",
    "\n",
    "    if len(savepath)>0:\n",
    "        plt.savefig(savepath, bbox_inches ='tight', pad_inches = 0, dpi=dpi)\n",
    "        print(f\"Saved to {savepath}\")\n",
    "    if show:\n",
    "        plt.show()\n",
    "    else: \n",
    "        return ax"
   ]
  },
  {
   "cell_type": "code",
   "execution_count": 12,
   "metadata": {},
   "outputs": [
    {
     "name": "stdout",
     "output_type": "stream",
     "text": [
      "Filtering to 0.99 GP variants: 1.000x\n",
      "Filtering to 0.99 GP variants: 1.000x\n",
      "Filtering to common GP variants: 1.000x\n",
      "Saved to ./fig/I3758_I5233_suspiciousRegion.png\n"
     ]
    },
    {
     "data": {
      "image/png": "[encoded data removed]",
      "text/plain": [
       "<Figure size 864x216 with 2 Axes>"
      ]
     },
     "metadata": {
      "needs_background": "light"
     },
     "output_type": "display_data"
    }
   ],
   "source": [
    "import h5py\n",
    "from ancIBD.IO.h5_load import get_opp_homos_f\n",
    "\n",
    "\n",
    "id1 = 'I3758'\n",
    "id2 = 'I5233'\n",
    "xlim = [0, 30]\n",
    "ch = 3\n",
    "f = h5py.File('AGDP.MAF5.ch3.h5', 'r')\n",
    "r_vec = f['variants/MAP'][:]\n",
    "o_homos, m = get_opp_homos_f(iid1=id1, iid2=id2, \n",
    "                                     f_path='AGDP.MAF5.ch', ch=ch, exact=False)\n",
    "plot_posterior(morgan=r_vec, het=o_homos, het_m=m,\n",
    "                       title=f'{id1} - {id2}: ch{ch}', xlim=xlim, show=True, df_ibd=[],\n",
    "                       savepath=f'./fig/{id1}_{id2}_suspiciousRegion.png', xlabel=\"Chromosome Position [cM]\")"
   ]
  },
  {
   "cell_type": "code",
   "execution_count": null,
   "metadata": {},
   "outputs": [],
   "source": [
    "from ancIBD.IO.h5_load import get_opp_homos_f\n",
    "import h5py\n",
    "import pandas as pd\n",
    "import itertools\n",
    "\n",
    "ch = 3\n",
    "f = h5py.File('AGDP.MAF5.tvOnly.ch3.h5', 'r')\n",
    "r_vec = f['variants/MAP'][:]\n",
    "iids = ['I4893', 'I4596', 'I1583', 'I2978', 'I5838', 'I1507', 'I2861', 'I2520', 'I3758', 'I5077', 'I0708', 'I5233', 'I3123']\n",
    "for id1, id2 in itertools.combinations(iids, 2):\n",
    "        o_homos, m = get_opp_homos_f(iid1=id1, iid2=id2, \n",
    "                                     f_path='AGDP.MAF5.tvOnly.ch', ch=ch, exact=False)\n",
    "        plot_posterior(morgan=r_vec, het=o_homos, het_m=m,\n",
    "                       title=f'{id1} - {id2}: ch{ch}', xlim=[], show=True, df_ibd=[],\n",
    "                       savepath=f'./fig/{id1}_{id2}_tvOnly.png', xlabel=\"Chromosome Position [cM]\")\n"
   ]
  },
  {
   "cell_type": "code",
   "execution_count": null,
   "metadata": {},
   "outputs": [],
   "source": [
    "from ancIBD.IO.h5_load import get_opp_homos_f\n",
    "import h5py\n",
    "import pandas as pd\n",
    "import itertools\n",
    "\n",
    "ch = 3\n",
    "f = h5py.File('./downsample/1240k/cov3/batch1/batch1.chr3.h5', 'r')\n",
    "r_vec = f['variants/MAP'][:]\n",
    "#iids = ['I4893', 'I4596', 'I1583', 'I2978', 'I5838', 'I1507', 'I2861', 'I2520', 'I3758', 'I5077', 'I0708', 'I5233', 'I3123']\n",
    "iids = ['I4893', 'I4596', 'I1583', 'I2978', 'I5838', 'I1507', 'I2861', 'I2520', 'I3758', 'I0708', 'I3123']\n",
    "\n",
    "df_ibd = pd.read_csv('./downsample/1240k/cov3/batch1/ch3.tsv', sep='\\t')\n",
    "\n",
    "for id1, id2 in itertools.combinations(iids, 2):\n",
    "        o_homos, m = get_opp_homos_f(iid1=id1, iid2=id2, \n",
    "                                     f_path='./downsample/1240k/cov3/batch1/batch1.chr', ch=ch, exact=False)\n",
    "        df_ibd_subset = df_ibd[((df_ibd['iid1'] == id1) & (df_ibd['iid2'] == id2)) | ((df_ibd['iid2'] == id1) & (df_ibd['iid1'] == id2))]\n",
    "        plot_posterior(morgan=r_vec, het=o_homos, het_m=m,\n",
    "                       title=f'{id1} - {id2}: ch{ch}', xlim=[], show=True, df_ibd=df_ibd_subset,\n",
    "                       savepath=f'./downsample/1240k/cov3/batch1/fig/{id1}_{id2}.png', xlabel=\"Chromosome Position [cM]\")\n"
   ]
  }
 ],
 "metadata": {
  "interpreter": {
   "hash": "31f2aee4e71d21fbe5cf8b01ff0e069b9275f58929596ceb00d14d90e3e16cd6"
  },
  "kernelspec": {
   "display_name": "Python 3",
   "language": "python",
   "name": "python3"
  },
  "language_info": {
   "codemirror_mode": {
    "name": "ipython",
    "version": 3
   },
   "file_extension": ".py",
   "mimetype": "text/x-python",
   "name": "python",
   "nbconvert_exporter": "python",
   "pygments_lexer": "ipython3",
   "version": "3.8.10"
  }
 },
 "nbformat": 4,
 "nbformat_minor": 4
}
