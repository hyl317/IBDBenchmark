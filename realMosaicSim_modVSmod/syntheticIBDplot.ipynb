{
 "cells": [
  {
   "cell_type": "code",
   "execution_count": 2,
   "metadata": {},
   "outputs": [],
   "source": [
    "import sys\n",
    "sys.path.append('/mnt/archgen/users/yilei/IBDsim/realMosaicSim_1240k/')\n",
    "from utility import *"
   ]
  },
  {
   "cell_type": "markdown",
   "metadata": {},
   "source": [
    "# main figure "
   ]
  },
  {
   "cell_type": "code",
   "execution_count": 10,
   "metadata": {},
   "outputs": [
    {
     "name": "stdout",
     "output_type": "stream",
     "text": [
      "4.048735263805579, 0.21288072109489126\n",
      "8.018393699184227, 0.23612585103488726\n",
      "12.060435817453767, 0.21597424378427016\n",
      "16.032563711943055, 0.21765015753060699\n",
      "20.05712308655243, 0.24807244811281504\n"
     ]
    },
    {
     "data": {
      "image/png": "[encoded data removed]",
      "text/plain": [
       "<Figure size 432x288 with 1 Axes>"
      ]
     },
     "metadata": {
      "needs_background": "light"
     },
     "output_type": "display_data"
    }
   ],
   "source": [
    "import numpy as np\n",
    "import matplotlib.pyplot as plt\n",
    "import matplotlib.cm as cm\n",
    "import pandas as pd\n",
    "\n",
    "plt.rcParams[\"font.family\"] = \"Arial\"\n",
    "\n",
    "fig, ax = plt.subplots()\n",
    "\n",
    "bl_lens = [4, 8, 12, 16, 20]\n",
    "bins = np.linspace(0, 25, 126) # bins of 0.2cm\n",
    "\n",
    "fs_l = 12\n",
    "fs = 12\n",
    "fs_t = 18\n",
    "color_fp = \"red\"\n",
    "ec = \"silver\"\n",
    "cmap = \"viridis_r\"\n",
    "alpha = 0.8\n",
    "xlim = (0,26)\n",
    "\n",
    "df_called, powers = lengthCallAll(bl_lens, '', './calledIBD', threshold=0.8)\n",
    "assert(len(bl_lens)==len(df_called)==len(powers)) # Sanity Check\n",
    "    \n",
    "### Set Colors\n",
    "cmap = cm.get_cmap(cmap)\n",
    "colors = [cmap(x) for x in np.linspace(0,1, len(bl_lens))]\n",
    "    \n",
    "####### Do the actual Plot\n",
    "# Plot All Histograms        \n",
    "for i in range(len(bl_lens)):\n",
    "    l = bl_lens[i]\n",
    "    print(f'{np.mean(df_called[i])}, {np.std(df_called[i])}')\n",
    "    df_called_trunc = np.array(df_called[i])\n",
    "    df_called_trunc[df_called_trunc>=27.5] = 27.5\n",
    "    plt.hist(df_called_trunc, bins = bins, color = colors[i], alpha=alpha, \n",
    "            label= str(l) + \" cM\", ec=ec)\n",
    "    plt.axvline(l, color = \"gray\", linewidth=2)\n",
    "    plt.text(l+0.5, 80, round(powers[i], 3), fontsize=20, fontweight='roman')\n",
    "    \n",
    " \n",
    "        \n",
    "    plt.xlim(xlim)\n",
    "    plt.xticks(bl_lens + [25])\n",
    "    ax.set_xticklabels(bl_lens + ['>=27.5'])\n",
    "    plt.tick_params(axis='both', labelsize=fs_t)\n",
    "\n",
    "\n",
    "plt.savefig('modVSmod.png', dpi=300)"
   ]
  }
 ],
 "metadata": {
  "kernelspec": {
   "display_name": "Python 3",
   "language": "python",
   "name": "python3"
  },
  "language_info": {
   "codemirror_mode": {
    "name": "ipython",
    "version": 3
   },
   "file_extension": ".py",
   "mimetype": "text/x-python",
   "name": "python",
   "nbconvert_exporter": "python",
   "pygments_lexer": "ipython3",
   "version": "3.8.10"
  },
  "orig_nbformat": 4,
  "vscode": {
   "interpreter": {
    "hash": "31f2aee4e71d21fbe5cf8b01ff0e069b9275f58929596ceb00d14d90e3e16cd6"
   }
  }
 },
 "nbformat": 4,
 "nbformat_minor": 2
}
