{
 "cells": [
  {
   "cell_type": "code",
   "execution_count": 3,
   "metadata": {},
   "outputs": [],
   "source": [
    "# examine length bias patterns in diff coverages and length bins"
   ]
  },
  {
   "cell_type": "code",
   "execution_count": 1,
   "metadata": {},
   "outputs": [
    {
     "name": "stdout",
     "output_type": "stream",
     "text": [
      "###### length: 5.0 #########\n",
      "true segment: (2.0602756275742604, 2.1102756275742602), inferred segment: 2.025412082672119 - 2.130470991134644\n",
      "###### length: 5.5 #########\n",
      "true segment: (2.0494916494877837, 2.104491649487784), inferred segment: 2.044719 - 2.176884889602661\n",
      "true segment: (2.0784394470408674, 2.1334394470408675), inferred segment: 2.0295228958129883 - 2.140557050704956\n",
      "true segment: (1.9664758296746463, 2.0214758296746465), inferred segment: 1.9536739587783811 - 2.07344388961792\n",
      "true segment: (2.0858355494545324, 2.1408355494545326), inferred segment: 2.026741981506348 - 2.140618085861206\n",
      "###### length: 6.0 #########\n",
      "###### length: 6.5 #########\n",
      "true segment: (1.8518151450114329, 1.9168151450114328), inferred segment: 1.792801022529602 - 1.920593023300171\n",
      "###### length: 7.0 #########\n",
      "true segment: (2.016655571674348, 2.086655571674348), inferred segment: 1.97223699092865 - 2.1006319522857666\n",
      "###### length: 7.5 #########\n",
      "true segment: (1.613735542913523, 1.688735542913523), inferred segment: 1.545477032661438 - 1.6869250535964966\n",
      "###### length: 8.0 #########\n",
      "###### length: 8.5 #########\n",
      "###### length: 9.0 #########\n",
      "###### length: 9.5 #########\n",
      "###### length: 10.0 #########\n",
      "###### length: 11.0 #########\n",
      "###### length: 12.0 #########\n",
      "###### length: 13.0 #########\n",
      "###### length: 14.0 #########\n",
      "###### length: 15.0 #########\n",
      "###### length: 16.0 #########\n",
      "###### length: 17.0 #########\n",
      "true segment: (0.3273460347598587, 0.4973460347598587), inferred segment: 0.3253180086612701 - 0.5760989785194397\n",
      "###### length: 18.0 #########\n",
      "###### length: 19.0 #########\n",
      "###### length: 20.0 #########\n"
     ]
    }
   ],
   "source": [
    "from utility import *\n",
    "\n",
    "cov = 'cov2'\n",
    "diffs = []\n",
    "diffs_pos = []\n",
    "diffs_neg = []\n",
    "\n",
    "for l in [5.0, 5.5, 6.0, 6.5, 7.0, 7.5, 8.0, 8.5, 9.0, 9.5, 10.0, 11.0, 12.0, 13.0, 14.0, 15.0, 16.0, 17.0, 18.0, 19.0, 20.0]:\n",
    "    print(f'###### length: {l} #########')\n",
    "    diff, diff_pos, diff_neg = lengthDiffOneBatch(f'/mnt/archgen/users/yilei/IBDsim/realMosaicSim4errModel/calledIBD_1240k/{cov}/ch3_{round(l, 1)}cm/ch3.tsv', \\\n",
    "        f'/mnt/archgen/users/yilei/IBDsim/realMosaicSim4errModel/simGeno/ch3_{round(l, 1)}cm/ibd_info.csv')\n",
    "    diffs.extend(diff)\n",
    "    diffs_pos.extend(diff_pos)\n",
    "    diffs_neg.extend(diff_neg)"
   ]
  },
  {
   "cell_type": "code",
   "execution_count": 2,
   "metadata": {},
   "outputs": [
    {
     "name": "stdout",
     "output_type": "stream",
     "text": [
      "proportion of overshoot: 0.8224423699752333\n",
      "mean of overshoot: 0.7800591212245306\n",
      "mean of undershoot: 0.15132530420796106\n"
     ]
    },
    {
     "data": {
      "image/png": "[encoded data removed]",
      "text/plain": [
       "<Figure size 432x288 with 1 Axes>"
      ]
     },
     "metadata": {
      "needs_background": "light"
     },
     "output_type": "display_data"
    }
   ],
   "source": [
    "import matplotlib.pyplot as plt\n",
    "\n",
    "prop = len(diffs_pos)/len(diffs)\n",
    "mu_pos = np.mean(diffs_pos)\n",
    "mu_neg = np.mean(np.abs(diffs_neg))\n",
    "print(f'proportion of overshoot: {prop}')\n",
    "print(f'mean of overshoot: {mu_pos}')\n",
    "print(f'mean of undershoot: {mu_neg}')\n",
    "\n",
    "bins = np.arange(-2, 6, 0.1)\n",
    "plt.hist(diffs, ec='k', bins=bins, density=True)\n",
    "\n",
    "from scipy import stats\n",
    "import pickle\n",
    "\n",
    "k = stats.gaussian_kde(diffs)\n",
    "plt.plot(bins, k.evaluate(bins), color='red', label='Gaussian KDE')\n",
    "pickle.dump(k, open(f'lengthBias.{cov}.kde', 'wb'))\n",
    "\n",
    "plt.legend(loc='upper right')\n",
    "plt.savefig(f'lengthBias.{cov}.png', dpi=300)\n"
   ]
  },
  {
   "cell_type": "markdown",
   "metadata": {},
   "source": [
    "# now construct the length bias matrix from the fitted KDE object"
   ]
  },
  {
   "cell_type": "code",
   "execution_count": null,
   "metadata": {},
   "outputs": [],
   "source": []
  },
  {
   "cell_type": "code",
   "execution_count": 3,
   "metadata": {},
   "outputs": [
    {
     "data": {
      "image/png": "[encoded data removed]",
      "text/plain": [
       "<Figure size 432x288 with 2 Axes>"
      ]
     },
     "metadata": {
      "needs_background": "light"
     },
     "output_type": "display_data"
    }
   ],
   "source": [
    "import numpy as np\n",
    "import pickle\n",
    "\n",
    "kde = pickle.load(open(f'lengthBias.{cov}.kde', 'rb'))\n",
    "\n",
    "minL = 2\n",
    "maxL = 22\n",
    "step = 0.1\n",
    "\n",
    "bins_calc = np.arange(minL, maxL+step, step)\n",
    "binMidpoint_calc = (bins_calc[1:] + bins_calc[:-1])/2\n",
    "nBins = len(binMidpoint_calc)\n",
    "lengthDiff = binMidpoint_calc.reshape(1, nBins) - binMidpoint_calc.reshape(nBins, 1)\n",
    "\n",
    "nrow, ncol = lengthDiff.shape\n",
    "R = np.zeros_like(lengthDiff)\n",
    "for i in range(nrow):\n",
    "    for j in range(ncol):\n",
    "        R[i,j] = kde.evaluate(lengthDiff[i,j])\n",
    "\n",
    "xticks = [i for i in np.arange(0, len(binMidpoint_calc), 30)]\n",
    "yticks = [i for i in np.arange(0, len(binMidpoint_calc), 30)]\n",
    "xticklabels = [round(binMidpoint_calc[i],3) for i in xticks]\n",
    "yticklabels = [round(binMidpoint_calc[j],3) for j in yticks]\n",
    "plt.imshow(R, cmap='viridis', aspect='equal')\n",
    "plt.colorbar()\n",
    "plt.xticks(xticks, xticklabels, fontsize=6)\n",
    "plt.yticks(yticks, yticklabels, fontsize=6)\n",
    "plt.xlabel('Inferred Segment Length(cM)')\n",
    "plt.ylabel('True Segment Length(cM')\n",
    "plt.savefig('Rmat.png', dpi=300)\n",
    "plt.savefig('Rmat.pdf', dpi=300)\n",
    "\n",
    "\n",
    "# up to this point R represents density, not probability\n",
    "# to use as input to the inference function, we need to convert it to probability\n",
    "R = step*R\n",
    "np.save(open(f'R.{cov}.npy', 'wb'), R)\n"
   ]
  },
  {
   "cell_type": "code",
   "execution_count": 4,
   "metadata": {},
   "outputs": [
    {
     "data": {
      "text/plain": [
       "0.9913674406940498"
      ]
     },
     "execution_count": 4,
     "metadata": {},
     "output_type": "execute_result"
    }
   ],
   "source": [
    "kde.integrate_box_1d(-2, 4)"
   ]
  },
  {
   "cell_type": "markdown",
   "metadata": {},
   "source": [
    "# figures for the manuscript"
   ]
  },
  {
   "cell_type": "code",
   "execution_count": 20,
   "metadata": {},
   "outputs": [
    {
     "name": "stdout",
     "output_type": "stream",
     "text": [
      "percentage of overshoot: 0.8\n",
      "mean of overshoot: 0.5578277514872559\n",
      "mean of undershoot: -0.1275421675529469\n",
      "percentage of overshoot: 0.808\n",
      "mean of overshoot: 0.558124093186503\n",
      "mean of undershoot: -0.11473335775832512\n",
      "percentage of overshoot: 0.792\n",
      "mean of overshoot: 0.6092379126264612\n",
      "mean of undershoot: -0.15582423291297734\n"
     ]
    },
    {
     "data": {
      "image/png": "[encoded data removed]",
      "text/plain": [
       "<Figure size 432x288 with 1 Axes>"
      ]
     },
     "metadata": {
      "needs_background": "light"
     },
     "output_type": "display_data"
    }
   ],
   "source": [
    "from scipy import stats\n",
    "\n",
    "bins = np.arange(-2, 6, 0.1)\n",
    "cov2label={'cov1':'1x', 'cov3over4':'0.75x', 'cov1over2':'0.5x'}\n",
    "colors = {'#29335c', '#00c49a', '#f8e16c'}\n",
    "\n",
    "for cov, color in zip(['cov1', 'cov3over4', 'cov1over2'], colors):\n",
    "    diffs = []\n",
    "    diff, diff_pos, diff_neg = lengthDiffOneBatch(f'/mnt/archgen/users/yilei/IBDsim/realMosaicSim/calledIBD/{cov}/ch3_{round(l, 1)}cm/ibd.summary.csv', \\\n",
    "        f'/mnt/archgen/users/yilei/IBDsim/realMosaicSim/simGeno/ch3_{round(l, 1)}cm/ibd_info.csv')\n",
    "    diffs.extend(diff)\n",
    "\n",
    "    plt.hist(diffs, ec='k', bins=bins, density=True, alpha=0.5, color=color)\n",
    "    k = stats.gaussian_kde(diffs)\n",
    "    plt.plot(bins, k.evaluate(bins), color=color, label=f'{cov2label[cov]}')\n",
    "\n",
    "plt.legend(loc='upper right')\n",
    "plt.xlabel('Length Difference (cM)')\n",
    "plt.ylabel('Density')\n",
    "plt.savefig('lengthBias.png', dpi=300)\n",
    "plt.savefig('lengthBias.pdf')\n",
    "    "
   ]
  }
 ],
 "metadata": {
  "kernelspec": {
   "display_name": "Python 3",
   "language": "python",
   "name": "python3"
  },
  "language_info": {
   "codemirror_mode": {
    "name": "ipython",
    "version": 3
   },
   "file_extension": ".py",
   "mimetype": "text/x-python",
   "name": "python",
   "nbconvert_exporter": "python",
   "pygments_lexer": "ipython3",
   "version": "3.8.10"
  },
  "orig_nbformat": 4,
  "vscode": {
   "interpreter": {
    "hash": "916dbcbb3f70747c44a77c7bcd40155683ae19c65e1c03b4aa3499c5328201f1"
   }
  }
 },
 "nbformat": 4,
 "nbformat_minor": 2
}
