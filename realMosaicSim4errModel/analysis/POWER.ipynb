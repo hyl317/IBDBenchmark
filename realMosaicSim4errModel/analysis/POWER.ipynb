{
 "cells": [
  {
   "cell_type": "code",
   "execution_count": 2,
   "metadata": {},
   "outputs": [
    {
     "name": "stdout",
     "output_type": "stream",
     "text": [
      "length 2.0: 0.996\n",
      "length 2.5: 1.0\n",
      "length 3.0: 1.0\n",
      "length 3.5: 1.0\n",
      "length 4.0: 1.0\n",
      "length 4.5: 1.0\n",
      "length 5.0: 1.0\n",
      "length 5.5: 1.0\n",
      "length 6.0: 1.0\n",
      "length 6.5: 1.0\n",
      "length 7.0: 1.0\n",
      "length 7.5: 1.0\n",
      "length 8.0: 1.0\n",
      "length 8.5: 1.0\n",
      "length 9.0: 1.0\n",
      "length 9.5: 1.0\n",
      "length 10.0: 1.0\n",
      "length 11.0: 1.0\n",
      "length 12.0: 1.0\n",
      "length 13.0: 1.0\n",
      "length 14.0: 1.0\n",
      "length 15.0: 1.0\n",
      "length 16.0: 1.0\n",
      "length 17.0: 1.0\n",
      "length 18.0: 1.0\n",
      "length 19.0: 1.0\n",
      "length 20.0: 1.0\n"
     ]
    }
   ],
   "source": [
    "# examine power for different coverages and length bins\n",
    "\n",
    "from utility import *\n",
    "\n",
    "cov = 'cov2'\n",
    "\n",
    "for l in [2.0, 2.5, 3.0, 3.5, 4.0, 4.5, 5.0, 5.5, 6.0, 6.5, 7.0, 7.5, 8.0, 8.5, 9.0, 9.5, 10.0, 11.0, 12.0, 13.0, 14.0, 15.0, 16.0, 17.0, 18.0, 19.0, 20.0]:\n",
    "    power = PowerOneBatch(f'/mnt/archgen/users/yilei/IBDsim/realMosaicSim4errModel/calledIBD_1240k/{cov}/ch3_{round(l,1)}cm/ch3.tsv', \\\n",
    "        f'/mnt/archgen/users/yilei/IBDsim/realMosaicSim4errModel/simGeno/ch3_{round(l, 1)}cm/ibd_info.csv', threshold=0.5)\n",
    "    print(f'length {l}: {power}')"
   ]
  }
 ],
 "metadata": {
  "kernelspec": {
   "display_name": "Python 3.8.10 64-bit",
   "language": "python",
   "name": "python3"
  },
  "language_info": {
   "codemirror_mode": {
    "name": "ipython",
    "version": 3
   },
   "file_extension": ".py",
   "mimetype": "text/x-python",
   "name": "python",
   "nbconvert_exporter": "python",
   "pygments_lexer": "ipython3",
   "version": "3.8.10"
  },
  "orig_nbformat": 4,
  "vscode": {
   "interpreter": {
    "hash": "31f2aee4e71d21fbe5cf8b01ff0e069b9275f58929596ceb00d14d90e3e16cd6"
   }
  }
 },
 "nbformat": 4,
 "nbformat_minor": 2
}
