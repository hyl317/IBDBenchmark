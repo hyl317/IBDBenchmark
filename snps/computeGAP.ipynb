{
 "cells": [
  {
   "cell_type": "code",
   "execution_count": 3,
   "metadata": {},
   "outputs": [],
   "source": [
    "def computeGAP(ch):\n",
    "    # calculate gaps in each of the consecutive 1240k snp\n",
    "    snplist = f'/mnt/archgen/users/yilei/IBDsim/snps/ch{ch}.1240k.snps'\n",
    "    prevM = None\n",
    "    prevBP = None\n",
    "    prev_rsID = None\n",
    "    with open(snplist) as f:\n",
    "        with open(f'/mnt/archgen/users/yilei/IBDsim/snps/ch{ch}.1240k.gaps', 'w') as out:\n",
    "            for line in f:\n",
    "                rsID, _, posM, posBP, _, _ = line.strip().split()\n",
    "                posM = float(posM)\n",
    "                posBP = int(posBP)\n",
    "                if prev_rsID:\n",
    "                    out.write(f'{prev_rsID}\\t{rsID}\\t{100*(posM - prevM)}\\t{posBP - prevBP}\\n')\n",
    "                prev_rsID = rsID\n",
    "                prevM = posM\n",
    "                prevBP = posBP\n",
    "\n",
    "for ch in range(1,23):\n",
    "    computeGAP(ch)\n",
    "\n",
    "\n",
    "\n"
   ]
  }
 ],
 "metadata": {
  "interpreter": {
   "hash": "31f2aee4e71d21fbe5cf8b01ff0e069b9275f58929596ceb00d14d90e3e16cd6"
  },
  "kernelspec": {
   "display_name": "Python 3.8.10 64-bit",
   "language": "python",
   "name": "python3"
  },
  "language_info": {
   "codemirror_mode": {
    "name": "ipython",
    "version": 3
   },
   "file_extension": ".py",
   "mimetype": "text/x-python",
   "name": "python",
   "nbconvert_exporter": "python",
   "pygments_lexer": "ipython3",
   "version": "3.8.10"
  },
  "orig_nbformat": 4
 },
 "nbformat": 4,
 "nbformat_minor": 2
}
