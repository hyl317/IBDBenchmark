{
 "cells": [
  {
   "cell_type": "code",
   "execution_count": 5,
   "metadata": {},
   "outputs": [
    {
     "name": "stdout",
     "output_type": "stream",
     "text": [
      "Counter({3: 50588, 2: 14200, 1: 12864})\n"
     ]
    }
   ],
   "source": [
    "from collections import defaultdict\n",
    "import gzip\n",
    "\n",
    "iids = []\n",
    "# in this 1240k iid list, the two african samples are removed\n",
    "# and one sample not having enough coverage to downsample to 2x is also removed\n",
    "# leaving a total of 52-3=49 samples\n",
    "with open('/mnt/archgen/users/yilei/IBDsim/BAM/1240k/iid.list') as f:\n",
    "    for line in f:\n",
    "        iid = line.strip()\n",
    "        iids.append(iid)\n",
    "\n",
    "mapAllele = defaultdict(set)\n",
    "\n",
    "for iid in iids:\n",
    "    with gzip.open(f'../realMosaicSim_wgs/genotypes/{iid}.chr3.1240k.vcf.gz', 'rt') as f:\n",
    "        for line in f:\n",
    "            if line.startswith('#'):\n",
    "                continue\n",
    "            _, bp, _, ref, alt, _, _, _, _, record = line.strip().split()\n",
    "            bp = int(bp)\n",
    "            GT = record.split(':')[0]\n",
    "            gt = int(GT[0]) + int(GT[2])\n",
    "            mapAllele[bp].add(gt)\n",
    "\n",
    "from collections import Counter\n",
    "c = Counter([len(v) for _, v in mapAllele.items()])\n",
    "print(c)\n"
   ]
  },
  {
   "cell_type": "code",
   "execution_count": 9,
   "metadata": {},
   "outputs": [
    {
     "name": "stdout",
     "output_type": "stream",
     "text": [
      "1077.925 GT switches per sample for cov3\n",
      "1492.2857142857142 GT switches per sample for cov2\n",
      "2860.4489795918366 GT switches per sample for cov1\n",
      "3793.877551020408 GT switches per sample for cov3over4\n",
      "5427.183673469388 GT switches per sample for cov1over2\n",
      "9273.612244897959 GT switches per sample for cov1over4\n",
      "15078.938775510203 GT switches per sample for cov1over10\n"
     ]
    }
   ],
   "source": [
    "# impute accu map\n",
    "path2sites=\"/mnt/archgen/users/hringbauer/data/GRG/vcf/pos/chr3.sites\"\n",
    "iids = []\n",
    "with open('/mnt/archgen/users/yilei/IBDsim/BAM/1240k/iid.list') as f:\n",
    "    for line in f:\n",
    "        iid = line.strip()\n",
    "        iids.append(iid)\n",
    "\n",
    "import pickle\n",
    "import os\n",
    "\n",
    "for cov in ['cov3', 'cov2', 'cov1', 'cov3over4', 'cov1over2', 'cov1over4', 'cov1over10']:\n",
    "    count = 0\n",
    "    accuMap = {}\n",
    "    with open(path2sites) as f:\n",
    "        for line in f:\n",
    "            _, bp = line.strip().split()\n",
    "            bp = int(bp)\n",
    "            accuMap[bp] ={0:[], 1:[], 2:[]}\n",
    "\n",
    "    nsample = 0\n",
    "    for iid in iids:\n",
    "        if not os.path.exists(f'./downsample/{cov}/{iid}/ch3/GLIMPSE_ligated/{iid}.chr3.1240k.vcf'):\n",
    "            continue\n",
    "        # first, determine groundtruth genotype at each site\n",
    "        nsample += 1\n",
    "        genotypes = {}\n",
    "        with gzip.open(f'../realMosaicSim_wgs/genotypes/{iid}.chr3.1240k.vcf.gz', 'rt') as f:\n",
    "            for line in f:\n",
    "                if line.startswith('#'):\n",
    "                    continue\n",
    "                _, bp, _, ref, alt, _, _, _, _, record = line.strip().split()\n",
    "                bp = int(bp)\n",
    "                GT, GP = record.split(':')\n",
    "                gt = int(GT[0]) + int(GT[2])\n",
    "                genotypes[bp] = gt\n",
    "        with open(f'./downsample/{cov}/{iid}/ch3/GLIMPSE_ligated/{iid}.chr3.1240k.vcf') as f:\n",
    "            for line in f:\n",
    "                if line.startswith('#'):\n",
    "                    continue\n",
    "                _, bp, _, ref, alt, _, _, _, _, record = line.strip().split()\n",
    "                bp = int(bp)\n",
    "                GT, _, GP, _ = record.split(':')\n",
    "                gt = int(GT[0]) + int(GT[2])\n",
    "                if gt != genotypes[bp]:\n",
    "                    count += 1\n",
    "                    #     print(f'inconsistent imputed genotype at {bp}')\n",
    "                gp0, gp1, gp2 = GP.split(',')\n",
    "                gp0, gp1, gp2 = float(gp0), float(gp1), float(gp2)\n",
    "                accuMap[bp][genotypes[bp]].append((gp0, gp1, gp2))\n",
    "            \n",
    "    pickle.dump(accuMap, open(f'imputeAccuMap.{cov}', 'wb'))\n",
    "    print(f'{count/nsample} GT switches per sample for {cov}')   "
   ]
  },
  {
   "cell_type": "code",
   "execution_count": null,
   "metadata": {},
   "outputs": [],
   "source": [
    "import pickle\n",
    "\n",
    "accuMap = pickle.load(open('imputeAccuMap.cov1over2', 'rb'))\n",
    "\n",
    "for bp, map_ = accuMap.items():\n",
    "    "
   ]
  },
  {
   "cell_type": "code",
   "execution_count": 4,
   "metadata": {},
   "outputs": [
    {
     "name": "stdout",
     "output_type": "stream",
     "text": [
      "409\n",
      "249\n"
     ]
    }
   ],
   "source": [
    "import pandas as pd\n",
    "dat = pd.read_csv('/mnt/archgen/users/yilei/IBDsim/realMosaicSim_1240k/calledIBD/cov1/ch3_0cm/ch3.tsv', sep='\\t')\n",
    "dat = dat[dat['lengthM']>0.04]\n",
    "print(len(dat))\n",
    "dat = dat[(dat['End'] - dat['Start'])/(dat['lengthM']*100) >= 220]\n",
    "print(len(dat))"
   ]
  },
  {
   "cell_type": "markdown",
   "metadata": {},
   "source": []
  }
 ],
 "metadata": {
  "kernelspec": {
   "display_name": "Python 3.8.10 64-bit",
   "language": "python",
   "name": "python3"
  },
  "language_info": {
   "codemirror_mode": {
    "name": "ipython",
    "version": 3
   },
   "file_extension": ".py",
   "mimetype": "text/x-python",
   "name": "python",
   "nbconvert_exporter": "python",
   "pygments_lexer": "ipython3",
   "version": "3.8.10"
  },
  "orig_nbformat": 4,
  "vscode": {
   "interpreter": {
    "hash": "31f2aee4e71d21fbe5cf8b01ff0e069b9275f58929596ceb00d14d90e3e16cd6"
   }
  }
 },
 "nbformat": 4,
 "nbformat_minor": 2
}
