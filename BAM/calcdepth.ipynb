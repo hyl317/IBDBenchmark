{
 "cells": [
  {
   "cell_type": "code",
   "execution_count": 2,
   "metadata": {},
   "outputs": [
    {
     "name": "stdout",
     "output_type": "stream",
     "text": [
      "I2105.depth: 18.046004545454544\n",
      "I3950.depth: 4.768566818181818\n",
      "I5273.depth: 18.215740909090908\n",
      "I5279.depth: 23.344036363636363\n",
      "I3388.depth: 8.107700909090909\n"
     ]
    }
   ],
   "source": [
    "import statistics\n",
    "\n",
    "list = ['I2105.depth', 'I3950.depth', 'I5273.depth', 'I5279.depth', 'I3388.depth']\n",
    "for file in list:\n",
    "    depths = []\n",
    "    with open(file) as f:\n",
    "        for line in f:\n",
    "            if line.startswith('#'):\n",
    "                continue\n",
    "            else:\n",
    "                rname, _, _, _, _, _, depth, _, _ = line.strip().split()\n",
    "                if rname.isnumeric():\n",
    "                    depths.append(float(depth))\n",
    "    print(f'{file}: {statistics.mean(depths)}')"
   ]
  }
 ],
 "metadata": {
  "interpreter": {
   "hash": "31f2aee4e71d21fbe5cf8b01ff0e069b9275f58929596ceb00d14d90e3e16cd6"
  },
  "kernelspec": {
   "display_name": "Python 3.8.10 64-bit",
   "language": "python",
   "name": "python3"
  },
  "language_info": {
   "codemirror_mode": {
    "name": "ipython",
    "version": 3
   },
   "file_extension": ".py",
   "mimetype": "text/x-python",
   "name": "python",
   "nbconvert_exporter": "python",
   "pygments_lexer": "ipython3",
   "version": "3.8.10"
  },
  "orig_nbformat": 4
 },
 "nbformat": 4,
 "nbformat_minor": 2
}
