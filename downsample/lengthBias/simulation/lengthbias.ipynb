{
 "cells": [
  {
   "cell_type": "code",
   "execution_count": 1,
   "metadata": {},
   "outputs": [
    {
     "name": "stdout",
     "output_type": "stream",
     "text": [
      "proportion of overshoot: 0.6075\n",
      "0.5014564163499973\n",
      "0.28591489589589525\n",
      "proportion of overshoot: 0.5725\n",
      "0.49698532568941545\n",
      "0.3157033298099252\n",
      "proportion of overshoot: 0.58\n",
      "0.530370451236978\n",
      "0.26484210079624404\n",
      "proportion of overshoot: 0.59\n",
      "0.5280648418386455\n",
      "0.2975056078568947\n",
      "proportion of overshoot: 0.61\n",
      "0.4958003917141234\n",
      "0.29257422277647294\n"
     ]
    },
    {
     "data": {
      "image/png": "[encoded data removed]",
      "text/plain": [
       "<Figure size 432x288 with 1 Axes>"
      ]
     },
     "metadata": {
      "needs_background": "light"
     },
     "output_type": "display_data"
    }
   ],
   "source": [
    "import pickle\n",
    "import numpy as np\n",
    "import matplotlib.pyplot as plt\n",
    "import scipy.stats\n",
    "\n",
    "data = pickle.load(open('TSI07s05e1.pickle', 'rb'))\n",
    "OriginalLengths = [4, 8, 12, 16, 20]\n",
    "bins = np.arange(0, 25, 0.1)\n",
    "ax = plt.gca()\n",
    "for i in range(5):\n",
    "    data0 = data[i]\n",
    "    calledLength = data0['CalledLength']    \n",
    "    pos = calledLength[calledLength > OriginalLengths[i]]\n",
    "    neg = calledLength[calledLength < OriginalLengths[i]]\n",
    "    print(f'proportion of overshoot: {len(pos)/len(calledLength)}')\n",
    "    color = next(ax._get_lines.prop_cycler)['color']\n",
    "    plt.hist(pos, zorder=2, density=True, bins=bins, color=color)\n",
    "    plt.hist(neg, zorder=2, density=True, bins=bins, color=color)\n",
    "    # plt.axvline(x=OriginalLengths[i], color='black', zorder=1, linewidth=0.75)\n",
    "    # plt.axvline(x=np.mean(calledLength), color='black', zorder=1, linestyle='--', linewidth=0.75)\n",
    "\n",
    "    ### fit a Gaussian dist? looks like a Gaussian fit is a bit too heavy tailed\n",
    "    # mu = np.mean(calledLength)\n",
    "    # sigma = np.std(calledLength)\n",
    "    # print(f'mean overshoot: {mu-OriginalLengths[i]}')\n",
    "    # plt.plot(bins, scipy.stats.norm.pdf(bins, loc=mu, scale=sigma), color='black', linestyle='--', linewidth=0.75)\n",
    "\n",
    "    ######## try out exponential for pos and neg separately\n",
    "    pos_lambda = np.mean(pos)-OriginalLengths[i]\n",
    "    print(pos_lambda)\n",
    "\n",
    "    neg_lambda = -(np.mean(neg)-OriginalLengths[i])\n",
    "    print(neg_lambda)\n",
    "\n",
    "    xs = np.arange(0, OriginalLengths[i], 0.1)\n",
    "    plt.plot(xs, scipy.stats.expon.pdf(np.abs(xs-OriginalLengths[i]), loc=0.0, scale=neg_lambda), color='black', linestyle='--', linewidth=0.75)\n",
    "\n",
    "    xs = np.arange(OriginalLengths[i], 25, 0.1)\n",
    "    plt.plot(xs, scipy.stats.expon.pdf(np.abs(xs-OriginalLengths[i]), loc=0.0, scale=pos_lambda), color='black', linestyle='--', linewidth=0.75)\n",
    "\n",
    "\n",
    "    \n",
    "\n",
    "    plt.savefig(f'{OriginalLengths[i]}cM.png', dpi=300)\n",
    "\n",
    "    #plt.clf()\n",
    "plt.savefig(f'lengthBias.png', dpi=300)"
   ]
  },
  {
   "cell_type": "code",
   "execution_count": 13,
   "metadata": {},
   "outputs": [
    {
     "data": {
      "text/plain": [
       "array([ 8.7135002 ,  8.2686007 ,  7.77820349,  8.34599733,  8.2509011 ,\n",
       "        8.57750177,  9.54149961,  7.98249245,  8.55650016,  8.05850029,\n",
       "        8.08030367,  7.95869827,  8.79579931,  7.93009996,  8.16310644,\n",
       "        8.12059641,  7.39270002,  8.42300057,  7.81130791,  8.54190588,\n",
       "        7.98380077,  8.12169909,  7.77139664,  8.38439465,  7.44759925,\n",
       "        7.26699829,  8.10600519,  8.1403017 ,  8.50099921,  8.05490017,\n",
       "        8.12020302,  7.59680271,  7.97550082,  7.63660073,  8.31450224,\n",
       "        6.47169352,  7.97859877,  8.74260068,  8.28980207,  7.77900219,\n",
       "        8.32719952,  9.02259946,  8.86249542,  7.98460245,  7.94799924,\n",
       "        8.2793951 ,  8.05519819,  8.02869797,  9.14770067,  7.96610117,\n",
       "        8.56519938,  8.25430155,  8.13310146,  7.87100196,  7.92679787,\n",
       "        8.97690058,  7.70449974,  8.29209685,  8.45500231,  7.63840675,\n",
       "        8.33809972,  8.14940333,  9.44370031,  7.40760565,  9.25630033,\n",
       "        8.74100327,  9.07030106,  7.73509741,  7.62079954,  7.34199882,\n",
       "        7.84970522,  7.6843977 ,  7.8935001 ,  8.78660083,  9.70709324,\n",
       "        8.57410431,  9.32560014,  7.6718986 ,  8.01239014,  8.3526969 ,\n",
       "        7.17159808, 10.21569967,  8.03320408,  8.30670595,  7.46410042,\n",
       "        7.80199766,  7.52830505,  7.47828484,  8.31879973,  8.07290077,\n",
       "        8.11369419,  8.12169313,  7.91200101,  7.72850513,  8.30439329,\n",
       "        8.02569389,  8.64089951,  7.74379969,  8.82240534,  7.89271593,\n",
       "        7.90489912,  7.93910027,  8.0706954 ,  9.41879749,  7.53199905,\n",
       "        8.02659988,  7.84800053,  7.5699091 ,  7.51219988,  7.97890425,\n",
       "        8.44949484,  8.01500082,  8.97050053,  8.77349973,  7.87960291,\n",
       "        7.57880211,  7.89290071,  8.78619552,  8.47700834,  8.87191296,\n",
       "        8.41349959,  7.72150159,  7.42720366,  8.03478956,  7.78589994,\n",
       "        8.19810033,  7.99490213,  8.38059187,  6.29869998,  8.88050199,\n",
       "        7.65069723,  8.72770548,  7.86789954,  8.32830071,  7.98870325,\n",
       "        8.5439086 ,  8.05209875,  8.06669593,  9.0520978 ,  7.62900114,\n",
       "        8.08840096,  9.21779871,  8.07039738,  7.65480995,  7.81389922,\n",
       "        8.11209679,  8.13840628,  6.75309896,  7.33859986,  7.7055037 ,\n",
       "        7.88730383,  8.52059126,  7.97310024,  7.87590146,  8.21670294,\n",
       "        7.72989988,  8.21190178,  7.94990063,  8.20319653,  8.29451084,\n",
       "        7.87479877,  8.59820247,  8.76170397,  7.61790276,  7.73929954,\n",
       "        8.48590136,  7.75640011,  7.89051056,  8.4778998 ,  8.09829831,\n",
       "        7.74769783,  8.33269358,  7.94989765,  7.98430443,  7.89619684,\n",
       "        8.24010372,  8.12160037,  7.42689967,  8.27380419,  7.74509907,\n",
       "        8.33189785,  8.20479989,  8.34310055,  7.5824976 ,  8.36739987,\n",
       "        8.12740326,  7.72650242,  9.19419527,  8.27720016,  9.31069851,\n",
       "        7.82879591,  8.6151123 ,  8.02669972,  5.87509871,  8.35160017,\n",
       "        7.91978836,  8.25320184,  8.12330246,  8.77399445,  9.25899744,\n",
       "        8.1302993 ,  7.94549584,  7.92599916,  7.58389235,  8.7503016 ,\n",
       "        7.46060014,  8.23769569,  7.74070024,  7.42490031,  7.97719955,\n",
       "        8.5950017 ,  7.22830296,  7.86300004,  7.82599449,  7.83159733,\n",
       "        7.63700008,  9.09430012,  7.72619843,  8.30010176,  8.47558975,\n",
       "        8.73709917,  8.43729973,  7.99740553,  7.88539648,  8.49779844,\n",
       "        8.42300057,  7.78490305,  8.24201107,  9.12440121,  8.83749723,\n",
       "        8.50939751,  7.67500401,  8.14720036,  8.19750428,  7.99629688,\n",
       "        8.28710794,  9.03899968,  8.14629793,  7.25870132,  9.73500013,\n",
       "        9.00660157,  8.12379718,  8.15559626,  7.71989822,  8.15249979,\n",
       "        8.24149847,  8.92629623,  8.20930004,  7.87230134,  7.79219866,\n",
       "        8.81780386,  7.90429115,  7.67700076,  8.00049901,  7.5518012 ,\n",
       "        7.56560564,  7.99029917,  8.11120868,  7.96569586,  7.92219639,\n",
       "        7.50769824,  7.88019896,  8.60120058,  8.0114007 ,  7.52940029,\n",
       "        8.35190415,  8.10799599,  7.78750181,  7.46710002,  7.84749985,\n",
       "        7.77440071,  7.67190456,  7.98699856,  7.88699985,  7.96420574,\n",
       "        6.48759604,  8.51709843,  9.19830203,  8.43260288,  8.02890062,\n",
       "        7.7797994 ,  9.86700058,  7.57360458,  7.85930157,  8.03730041,\n",
       "        8.01920295,  8.11649561,  9.93930101,  8.09009969,  7.95260072,\n",
       "        8.19909573,  7.34810829,  8.01829994,  8.74999762,  8.21609497,\n",
       "        8.23180676,  7.68940002,  8.5078001 ,  8.93870592,  7.61299133,\n",
       "        8.5627988 ,  9.23920274,  7.82619715,  8.38389397,  7.89959989,\n",
       "        7.98640251,  7.97230005,  7.81109333,  7.82819986,  8.31950307,\n",
       "        7.63620138,  8.51750374,  9.09459889,  8.16499591,  9.37680006,\n",
       "        8.36451054,  7.67889991,  7.76270032,  7.85319805,  7.87470341,\n",
       "        7.30459914,  8.33899975,  8.71939659,  8.02289248,  7.95940012,\n",
       "        8.11979771,  9.41179991,  7.36880302,  7.84130096,  9.88299847,\n",
       "        8.13689232,  8.04810524,  8.04049969,  8.05190206,  8.58910084,\n",
       "        7.79919624,  7.82850049,  8.63850117,  8.08440447,  7.38629103,\n",
       "        7.58109987,  7.81559944,  6.06689453,  8.60630274,  7.87319839,\n",
       "        8.30890536,  9.36000347,  9.10910368,  8.98420215,  7.90920258,\n",
       "        8.47439766,  8.08879137,  8.10289979,  7.74999857,  8.57629776,\n",
       "        8.36949348,  8.39649998,  7.60710239, 10.58520079,  8.19920301,\n",
       "        8.63170028,  7.86899924,  7.76170492,  8.52199793,  7.9494983 ,\n",
       "        8.19600224,  8.04290771,  8.79199505,  8.08990002,  9.10199881,\n",
       "        8.06589127,  9.1514945 ,  8.3344996 ,  8.01619887,  8.04120302,\n",
       "        9.6566081 ,  8.03200155,  8.06779861,  9.71469879,  8.41510296,\n",
       "        8.50150064,  7.77930617,  7.9192996 ,  8.17570686,  5.95690012,\n",
       "        8.7691009 ,  8.05259943,  8.19630623,  7.75739849,  7.86049962,\n",
       "        8.27189684,  7.94939995,  8.21050107,  8.53710175,  8.07430744,\n",
       "        7.70940781,  7.78829902,  7.65849948,  8.10040236,  6.52589798])"
      ]
     },
     "execution_count": 13,
     "metadata": {},
     "output_type": "execute_result"
    }
   ],
   "source": [
    "CalledLength"
   ]
  }
 ],
 "metadata": {
  "kernelspec": {
   "display_name": "Python 3.8.10 64-bit",
   "language": "python",
   "name": "python3"
  },
  "language_info": {
   "codemirror_mode": {
    "name": "ipython",
    "version": 3
   },
   "file_extension": ".py",
   "mimetype": "text/x-python",
   "name": "python",
   "nbconvert_exporter": "python",
   "pygments_lexer": "ipython3",
   "version": "3.8.10"
  },
  "orig_nbformat": 4,
  "vscode": {
   "interpreter": {
    "hash": "31f2aee4e71d21fbe5cf8b01ff0e069b9275f58929596ceb00d14d90e3e16cd6"
   }
  }
 },
 "nbformat": 4,
 "nbformat_minor": 2
}
