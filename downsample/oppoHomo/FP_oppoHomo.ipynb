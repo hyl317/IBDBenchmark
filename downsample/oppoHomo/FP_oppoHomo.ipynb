{
 "cells": [
  {
   "cell_type": "markdown",
   "metadata": {},
   "source": [
    "# benchmark IBD calling accuracy"
   ]
  },
  {
   "cell_type": "code",
   "execution_count": 1,
   "metadata": {},
   "outputs": [],
   "source": [
    "from plot_utility import calc_FP_all\n",
    "import numpy as np\n"
   ]
  },
  {
   "cell_type": "markdown",
   "metadata": {},
   "source": [
    "# wgs"
   ]
  },
  {
   "cell_type": "code",
   "execution_count": null,
   "metadata": {},
   "outputs": [],
   "source": [
    "import matplotlib.pyplot as plt\n",
    "\n",
    "bins = [(5,6),(6,7), (7,8), (8,10), (10,15), (15, np.inf)]\n",
    "covs = ['cov5', 'cov2', 'cov1', 'cov3over4', 'cov1over2', 'cov1over4', 'cov1over10']\n",
    "cov2str = {'cov5':'5x', 'cov2':'2x', 'cov1':'1x', 'cov3over4':'0.75x', 'cov1over2':'0.5x', 'cov1over4':'0.25x', 'cov1over10':'0.1x'}\n",
    "\n",
    "\n",
    "for i, bin in enumerate(bins):\n",
    "    print(f'doing bin: {bin}')\n",
    "    fig, axs = plt.subplots(2, 4, sharex=False, sharey=False, figsize=(24, 12), tight_layout=True)\n",
    "    for index, cov in enumerate(covs):\n",
    "        print(f'doing coverage {cov2str[cov]}')\n",
    "        i, j = index//4, index%4\n",
    "        density, fraction_covered, oppoHomoRates = calc_FP_all(f'./callIBD/wgs/{cov}', bin[0], bin[1], threshold=0.5)\n",
    "        axs[i,j].scatter(fraction_covered, oppoHomoRates, color='blue', alpha=0.3, label='ancIBD')\n",
    "\n",
    "        density, fraction_covered, oppoHomoRates = calc_FP_all(f'./callIBD/wgs/{cov}', bin[0], bin[1], mode='IBIS_1240k', threshold=0.5)\n",
    "        axs[i,j].scatter(fraction_covered, oppoHomoRates, color='orange', alpha=0.3, label='IBIS_1240k')\n",
    "\n",
    "        axs[i,j].set_title(f'simulated coverage: {cov2str[cov]}', fontsize=18)\n",
    "        if i == j == 0:\n",
    "            axs[i,j].legend(loc='upper right', fontsize='xx-large')\n",
    "    axs[1,3].set_visible(False)\n",
    "    \n",
    "    fig.text(0.5, 1.01, f'Length Bin: {bin[0]}-{bin[1]}cM', ha='center', va='center', fontsize=30)\n",
    "    fig.text(0.5, -0.01, 'PPV', ha='center', va='center', fontsize=30)\n",
    "    fig.text(-0.01, 0.5, 'Rate of Opposing Homozygotes', ha='center', va='center', rotation='vertical', fontsize=30)\n",
    "    plt.savefig(f'./wgs/snpDensity_{bin[0]}-{bin[1]}cM.png', dpi=300, bbox_inches = \"tight\")"
   ]
  },
  {
   "cell_type": "markdown",
   "metadata": {},
   "source": [
    "# 1240k"
   ]
  },
  {
   "cell_type": "code",
   "execution_count": null,
   "metadata": {},
   "outputs": [],
   "source": [
    "import matplotlib.pyplot as plt\n",
    "\n",
    "bins = [(5,6),(6,7),(7,8), (8,10), (10,15), (15, np.inf)]\n",
    "covs = ['cov2', 'cov1', 'cov3over4', 'cov1over2']\n",
    "cov2str = {'cov5':'5x', 'cov2':'2x', 'cov1':'1x', 'cov3over4':'0.75x', 'cov1over2':'0.5x'}\n",
    "\n",
    "\n",
    "for i, bin in enumerate(bins):\n",
    "    print(f'doing bin: {bin}')\n",
    "    fig, axs = plt.subplots(2, 2, sharex=False, sharey=False, figsize=(24, 12), tight_layout=True)\n",
    "    for index, cov in enumerate(covs):\n",
    "        print(f'doing coverage {cov2str[cov]}')\n",
    "        i, j = index//2, index%2\n",
    "        density, fraction_covered, oppoHomo = calc_FP_all(f'./callIBD/1240k/{cov}', bin[0], bin[1], threshold=0.5)\n",
    "        axs[i,j].scatter(fraction_covered, oppoHomo, color='blue', alpha=0.3, label='ancIBD')\n",
    "        avgNumFP_ancIBD = np.sum(np.array(fraction_covered) < 0.1)/(50*6)\n",
    "\n",
    "        density, fraction_covered, oppoHomo = calc_FP_all(f'./callIBD/1240k/{cov}', bin[0], bin[1], mode='IBIS_1240k', threshold=0.5)\n",
    "        axs[i,j].scatter(fraction_covered, oppoHomo, color='orange', alpha=0.3, label='IBIS_1240k')\n",
    "        avgNumFP_ibis = np.sum(np.array(fraction_covered) < 0.1)/(50*6)\n",
    "\n",
    "        axs[i,j].set_title(f'simulated coverage: {cov2str[cov]}', fontsize=18)\n",
    "        if i == j == 0:\n",
    "            axs[i,j].legend(loc='upper right', fontsize='xx-large')\n",
    "\n",
    "    \n",
    "    fig.text(0.5, 1.01, f'Length Bin: {bin[0]}-{bin[1]}cM', ha='center', va='center', fontsize=30)\n",
    "    fig.text(0.5, -0.01, 'PPV', ha='center', va='center', fontsize=30)\n",
    "    fig.text(-0.01, 0.5, 'Rate of Opposing Homozygotes', ha='center', va='center', rotation='vertical', fontsize=30)\n",
    "    plt.savefig(f'./1240k/snpDensity_{bin[0]}-{bin[1]}cM.png', dpi=300, bbox_inches = \"tight\")"
   ]
  },
  {
   "cell_type": "markdown",
   "metadata": {},
   "source": [
    "# side by side plot"
   ]
  },
  {
   "cell_type": "code",
   "execution_count": null,
   "metadata": {},
   "outputs": [],
   "source": []
  },
  {
   "attachments": {},
   "cell_type": "markdown",
   "metadata": {},
   "source": [
    "# Test of allele freq"
   ]
  },
  {
   "cell_type": "code",
   "execution_count": 3,
   "metadata": {},
   "outputs": [
    {
     "data": {
      "text/plain": [
       "<matplotlib.lines.Line2D at 0x7fbc9d228370>"
      ]
     },
     "execution_count": 3,
     "metadata": {},
     "output_type": "execute_result"
    },
    {
     "data": {
      "image/png": "[encoded data removed]",
      "text/plain": [
       "<Figure size 432x288 with 1 Axes>"
      ]
     },
     "metadata": {
      "needs_background": "light"
     },
     "output_type": "display_data"
    }
   ],
   "source": [
    "import numpy as np\n",
    "import matplotlib.pyplot as plt\n",
    "\n",
    "allelfreq = np.arange(0, 1, 0.01)\n",
    "plt.plot(allelfreq, allelfreq**2)\n",
    "plt.plot(allelfreq, (1-allelfreq)*(1-allelfreq))\n",
    "plt.axhline(y=0.05)"
   ]
  },
  {
   "cell_type": "code",
   "execution_count": 3,
   "metadata": {},
   "outputs": [
    {
     "name": "stderr",
     "output_type": "stream",
     "text": [
      "  0%|          | 0/22 [00:00<?, ?it/s]"
     ]
    },
    {
     "name": "stdout",
     "output_type": "stream",
     "text": [
      "extracting bp position done\n",
      "index1: 0, index2: 1\n",
      "extracting gt done\n",
      "sanity check done\n",
      "common homozygote position done\n",
      "index1: 0, index2: 3\n",
      "extracting gt done\n",
      "sanity check done\n",
      "common homozygote position done\n",
      "index1: 0, index2: 2\n",
      "extracting gt done\n",
      "sanity check done\n",
      "common homozygote position done\n",
      "index1: 1, index2: 3\n",
      "extracting gt done\n",
      "sanity check done\n",
      "common homozygote position done\n",
      "index1: 1, index2: 2\n",
      "extracting gt done\n",
      "sanity check done\n",
      "common homozygote position done\n",
      "index1: 3, index2: 2\n",
      "extracting gt done\n",
      "sanity check done\n",
      "common homozygote position done\n"
     ]
    },
    {
     "name": "stderr",
     "output_type": "stream",
     "text": [
      "  5%|▍         | 1/22 [00:00<00:04,  4.64it/s]"
     ]
    },
    {
     "name": "stdout",
     "output_type": "stream",
     "text": [
      "extracting bp position done\n",
      "index1: 0, index2: 1\n",
      "extracting gt done\n",
      "sanity check done\n",
      "common homozygote position done\n",
      "index1: 0, index2: 3\n",
      "extracting gt done\n",
      "sanity check done\n",
      "common homozygote position done\n",
      "index1: 0, index2: 2\n",
      "extracting gt done\n",
      "sanity check done\n",
      "common homozygote position done\n",
      "index1: 1, index2: 3\n",
      "extracting gt done\n",
      "sanity check done\n",
      "common homozygote position done\n",
      "index1: 1, index2: 2\n",
      "extracting gt done\n",
      "sanity check done\n",
      "common homozygote position done\n",
      "index1: 3, index2: 2\n",
      "extracting gt done\n",
      "sanity check done\n",
      "common homozygote position done\n"
     ]
    },
    {
     "name": "stderr",
     "output_type": "stream",
     "text": [
      "  9%|▉         | 2/22 [00:00<00:06,  3.25it/s]"
     ]
    },
    {
     "name": "stdout",
     "output_type": "stream",
     "text": [
      "extracting bp position done\n",
      "index1: 0, index2: 1\n",
      "extracting gt done\n",
      "sanity check done\n",
      "common homozygote position done\n",
      "index1: 0, index2: 3\n",
      "extracting gt done\n",
      "sanity check done\n",
      "common homozygote position done\n",
      "index1: 0, index2: 2\n",
      "extracting gt done\n",
      "sanity check done\n",
      "common homozygote position done\n",
      "index1: 1, index2: 3\n",
      "extracting gt done\n",
      "sanity check done\n",
      "common homozygote position done\n",
      "index1: 1, index2: 2\n",
      "extracting gt done\n",
      "sanity check done\n",
      "common homozygote position done\n",
      "index1: 3, index2: 2\n",
      "extracting gt done\n",
      "sanity check done\n",
      "common homozygote position done\n"
     ]
    },
    {
     "name": "stderr",
     "output_type": "stream",
     "text": [
      " 14%|█▎        | 3/22 [00:01<00:06,  2.97it/s]"
     ]
    },
    {
     "name": "stdout",
     "output_type": "stream",
     "text": [
      "extracting bp position done\n",
      "index1: 0, index2: 1\n",
      "extracting gt done\n",
      "sanity check done\n",
      "common homozygote position done\n",
      "index1: 0, index2: 3\n",
      "extracting gt done\n",
      "sanity check done\n",
      "common homozygote position done\n",
      "index1: 0, index2: 2\n",
      "extracting gt done\n",
      "sanity check done\n",
      "common homozygote position done\n",
      "index1: 1, index2: 3\n",
      "extracting gt done\n",
      "sanity check done\n",
      "common homozygote position done\n",
      "index1: 1, index2: 2\n",
      "extracting gt done\n",
      "sanity check done\n",
      "common homozygote position done\n",
      "index1: 3, index2: 2\n",
      "extracting gt done\n",
      "sanity check done\n",
      "common homozygote position done\n"
     ]
    },
    {
     "name": "stderr",
     "output_type": "stream",
     "text": [
      " 18%|█▊        | 4/22 [00:01<00:06,  2.93it/s]"
     ]
    },
    {
     "name": "stdout",
     "output_type": "stream",
     "text": [
      "extracting bp position done\n",
      "index1: 0, index2: 1\n",
      "extracting gt done\n",
      "sanity check done\n",
      "common homozygote position done\n",
      "index1: 0, index2: 3\n",
      "extracting gt done\n",
      "sanity check done\n",
      "common homozygote position done\n",
      "index1: 0, index2: 2\n",
      "extracting gt done\n",
      "sanity check done\n",
      "common homozygote position done\n",
      "index1: 1, index2: 3\n",
      "extracting gt done\n",
      "sanity check done\n",
      "common homozygote position done\n",
      "index1: 1, index2: 2\n",
      "extracting gt done\n",
      "sanity check done\n",
      "common homozygote position done\n",
      "index1: 3, index2: 2\n",
      "extracting gt done\n",
      "sanity check done\n",
      "common homozygote position done\n"
     ]
    },
    {
     "name": "stderr",
     "output_type": "stream",
     "text": [
      " 23%|██▎       | 5/22 [00:01<00:05,  2.93it/s]"
     ]
    },
    {
     "name": "stdout",
     "output_type": "stream",
     "text": [
      "extracting bp position done\n",
      "index1: 0, index2: 1\n",
      "extracting gt done\n",
      "sanity check done\n",
      "common homozygote position done\n",
      "index1: 0, index2: 3\n",
      "extracting gt done\n",
      "sanity check done\n",
      "common homozygote position done\n",
      "index1: 0, index2: 2\n",
      "extracting gt done\n",
      "sanity check done\n",
      "common homozygote position done\n",
      "index1: 1, index2: 3\n",
      "extracting gt done\n",
      "sanity check done\n",
      "common homozygote position done\n",
      "index1: 1, index2: 2\n",
      "extracting gt done\n",
      "sanity check done\n",
      "common homozygote position done\n",
      "index1: 3, index2: 2\n",
      "extracting gt done\n",
      "sanity check done\n",
      "common homozygote position done\n"
     ]
    },
    {
     "name": "stderr",
     "output_type": "stream",
     "text": [
      " 27%|██▋       | 6/22 [00:02<00:05,  2.96it/s]"
     ]
    },
    {
     "name": "stdout",
     "output_type": "stream",
     "text": [
      "extracting bp position done\n",
      "index1: 0, index2: 1\n",
      "extracting gt done\n",
      "sanity check done\n",
      "common homozygote position done\n",
      "index1: 0, index2: 3\n",
      "extracting gt done\n",
      "sanity check done\n",
      "common homozygote position done\n",
      "index1: 0, index2: 2\n",
      "extracting gt done\n",
      "sanity check done\n",
      "common homozygote position done\n",
      "index1: 1, index2: 3\n",
      "extracting gt done\n",
      "sanity check done\n",
      "common homozygote position done\n",
      "index1: 1, index2: 2\n",
      "extracting gt done\n",
      "sanity check done\n",
      "common homozygote position done\n",
      "index1: 3, index2: 2\n",
      "extracting gt done\n",
      "sanity check done\n",
      "common homozygote position done\n"
     ]
    },
    {
     "name": "stderr",
     "output_type": "stream",
     "text": [
      " 32%|███▏      | 7/22 [00:02<00:05,  3.00it/s]"
     ]
    },
    {
     "name": "stdout",
     "output_type": "stream",
     "text": [
      "extracting bp position done\n",
      "index1: 0, index2: 1\n",
      "extracting gt done\n",
      "sanity check done\n",
      "common homozygote position done\n",
      "index1: 0, index2: 3\n",
      "extracting gt done\n",
      "sanity check done\n",
      "common homozygote position done\n",
      "index1: 0, index2: 2\n",
      "extracting gt done\n",
      "sanity check done\n",
      "common homozygote position done\n",
      "index1: 1, index2: 3\n",
      "extracting gt done\n",
      "sanity check done\n",
      "common homozygote position done\n",
      "index1: 1, index2: 2\n",
      "extracting gt done\n",
      "sanity check done\n",
      "common homozygote position done\n",
      "index1: 3, index2: 2\n",
      "extracting gt done\n",
      "sanity check done\n",
      "common homozygote position done\n"
     ]
    },
    {
     "name": "stderr",
     "output_type": "stream",
     "text": [
      " 36%|███▋      | 8/22 [00:02<00:04,  3.01it/s]"
     ]
    },
    {
     "name": "stdout",
     "output_type": "stream",
     "text": [
      "extracting bp position done\n",
      "index1: 0, index2: 1\n",
      "extracting gt done\n",
      "sanity check done\n",
      "common homozygote position done\n",
      "index1: 0, index2: 3\n",
      "extracting gt done\n",
      "sanity check done\n",
      "common homozygote position done\n",
      "index1: 0, index2: 2\n",
      "extracting gt done\n",
      "sanity check done\n",
      "common homozygote position done\n",
      "index1: 1, index2: 3\n",
      "extracting gt done\n",
      "sanity check done\n",
      "common homozygote position done\n",
      "index1: 1, index2: 2\n",
      "extracting gt done\n",
      "sanity check done\n",
      "common homozygote position done\n",
      "index1: 3, index2: 2\n",
      "extracting gt done\n",
      "sanity check done\n",
      "common homozygote position done\n"
     ]
    },
    {
     "name": "stderr",
     "output_type": "stream",
     "text": [
      " 41%|████      | 9/22 [00:02<00:04,  3.12it/s]"
     ]
    },
    {
     "name": "stdout",
     "output_type": "stream",
     "text": [
      "extracting bp position done\n",
      "index1: 0, index2: 1\n",
      "extracting gt done\n",
      "sanity check done\n",
      "common homozygote position done\n",
      "index1: 0, index2: 3\n",
      "extracting gt done\n",
      "sanity check done\n",
      "common homozygote position done\n",
      "index1: 0, index2: 2\n",
      "extracting gt done\n",
      "sanity check done\n",
      "common homozygote position done\n",
      "index1: 1, index2: 3\n",
      "extracting gt done\n",
      "sanity check done\n",
      "common homozygote position done\n",
      "index1: 1, index2: 2\n",
      "extracting gt done\n",
      "sanity check done\n",
      "common homozygote position done\n",
      "index1: 3, index2: 2\n",
      "extracting gt done\n",
      "sanity check done\n",
      "common homozygote position done\n"
     ]
    },
    {
     "name": "stderr",
     "output_type": "stream",
     "text": [
      " 45%|████▌     | 10/22 [00:03<00:03,  3.18it/s]"
     ]
    },
    {
     "name": "stdout",
     "output_type": "stream",
     "text": [
      "extracting bp position done\n",
      "index1: 0, index2: 1\n",
      "extracting gt done\n",
      "sanity check done\n",
      "common homozygote position done\n",
      "index1: 0, index2: 3\n",
      "extracting gt done\n",
      "sanity check done\n",
      "common homozygote position done\n",
      "index1: 0, index2: 2\n",
      "extracting gt done\n",
      "sanity check done\n",
      "common homozygote position done\n",
      "index1: 1, index2: 3\n",
      "extracting gt done\n",
      "sanity check done\n",
      "common homozygote position done\n",
      "index1: 1, index2: 2\n",
      "extracting gt done\n",
      "sanity check done\n",
      "common homozygote position done\n",
      "index1: 3, index2: 2\n",
      "extracting gt done\n",
      "sanity check done\n",
      "common homozygote position done\n"
     ]
    },
    {
     "name": "stderr",
     "output_type": "stream",
     "text": [
      " 50%|█████     | 11/22 [00:03<00:03,  3.21it/s]"
     ]
    },
    {
     "name": "stdout",
     "output_type": "stream",
     "text": [
      "extracting bp position done\n",
      "index1: 0, index2: 1\n",
      "extracting gt done\n",
      "sanity check done\n",
      "common homozygote position done\n",
      "index1: 0, index2: 3\n",
      "extracting gt done\n",
      "sanity check done\n",
      "common homozygote position done\n",
      "index1: 0, index2: 2\n",
      "extracting gt done\n",
      "sanity check done\n",
      "common homozygote position done\n",
      "index1: 1, index2: 3\n",
      "extracting gt done\n",
      "sanity check done\n",
      "common homozygote position done\n",
      "index1: 1, index2: 2\n",
      "extracting gt done\n",
      "sanity check done\n",
      "common homozygote position done\n",
      "index1: 3, index2: 2\n",
      "extracting gt done\n",
      "sanity check done\n",
      "common homozygote position done\n"
     ]
    },
    {
     "name": "stderr",
     "output_type": "stream",
     "text": [
      " 55%|█████▍    | 12/22 [00:03<00:03,  3.26it/s]"
     ]
    },
    {
     "name": "stdout",
     "output_type": "stream",
     "text": [
      "extracting bp position done\n",
      "index1: 0, index2: 1\n",
      "extracting gt done\n",
      "sanity check done\n",
      "common homozygote position done\n",
      "index1: 0, index2: 3\n",
      "extracting gt done\n",
      "sanity check done\n",
      "common homozygote position done\n",
      "index1: 0, index2: 2\n",
      "extracting gt done\n",
      "sanity check done\n",
      "common homozygote position done\n",
      "index1: 1, index2: 3\n",
      "extracting gt done\n",
      "sanity check done\n",
      "common homozygote position done\n",
      "index1: 1, index2: 2\n",
      "extracting gt done\n",
      "sanity check done\n",
      "common homozygote position done\n",
      "index1: 3, index2: 2\n",
      "extracting gt done\n",
      "sanity check done\n",
      "common homozygote position done\n"
     ]
    },
    {
     "name": "stderr",
     "output_type": "stream",
     "text": [
      " 59%|█████▉    | 13/22 [00:03<00:02,  3.34it/s]"
     ]
    },
    {
     "name": "stdout",
     "output_type": "stream",
     "text": [
      "extracting bp position done\n",
      "index1: 0, index2: 1\n",
      "extracting gt done\n",
      "sanity check done\n",
      "common homozygote position done\n",
      "index1: 0, index2: 3\n",
      "extracting gt done\n",
      "sanity check done\n",
      "common homozygote position done\n",
      "index1: 0, index2: 2\n",
      "extracting gt done\n",
      "sanity check done\n",
      "common homozygote position done\n",
      "index1: 1, index2: 3\n",
      "extracting gt done\n",
      "sanity check done\n",
      "common homozygote position done\n",
      "index1: 1, index2: 2\n",
      "extracting gt done\n",
      "sanity check done\n",
      "common homozygote position done\n",
      "index1: 3, index2: 2\n",
      "extracting gt done\n",
      "sanity check done\n",
      "common homozygote position done\n"
     ]
    },
    {
     "name": "stderr",
     "output_type": "stream",
     "text": [
      " 64%|██████▎   | 14/22 [00:04<00:02,  3.44it/s]"
     ]
    },
    {
     "name": "stdout",
     "output_type": "stream",
     "text": [
      "extracting bp position done\n",
      "index1: 0, index2: 1\n",
      "extracting gt done\n",
      "sanity check done\n",
      "common homozygote position done\n",
      "index1: 0, index2: 3\n",
      "extracting gt done\n",
      "sanity check done\n",
      "common homozygote position done\n",
      "index1: 0, index2: 2\n",
      "extracting gt done\n",
      "sanity check done\n",
      "common homozygote position done\n",
      "index1: 1, index2: 3\n",
      "extracting gt done\n",
      "sanity check done\n",
      "common homozygote position done\n",
      "index1: 1, index2: 2\n",
      "extracting gt done\n",
      "sanity check done\n",
      "common homozygote position done\n",
      "index1: 3, index2: 2\n",
      "extracting gt done\n",
      "sanity check done\n",
      "common homozygote position done\n"
     ]
    },
    {
     "name": "stderr",
     "output_type": "stream",
     "text": [
      " 68%|██████▊   | 15/22 [00:04<00:01,  3.55it/s]"
     ]
    },
    {
     "name": "stdout",
     "output_type": "stream",
     "text": [
      "extracting bp position done\n",
      "index1: 0, index2: 1\n",
      "extracting gt done\n",
      "sanity check done\n",
      "common homozygote position done\n",
      "index1: 0, index2: 3\n",
      "extracting gt done\n",
      "sanity check done\n",
      "common homozygote position done\n",
      "index1: 0, index2: 2\n",
      "extracting gt done\n",
      "sanity check done\n",
      "common homozygote position done\n",
      "index1: 1, index2: 3\n",
      "extracting gt done\n",
      "sanity check done\n",
      "common homozygote position done\n",
      "index1: 1, index2: 2\n",
      "extracting gt done\n",
      "sanity check done\n",
      "common homozygote position done\n",
      "index1: 3, index2: 2\n",
      "extracting gt done\n",
      "sanity check done\n",
      "common homozygote position done\n"
     ]
    },
    {
     "name": "stderr",
     "output_type": "stream",
     "text": [
      " 73%|███████▎  | 16/22 [00:04<00:01,  3.62it/s]"
     ]
    },
    {
     "name": "stdout",
     "output_type": "stream",
     "text": [
      "extracting bp position done\n",
      "index1: 0, index2: 1\n",
      "extracting gt done\n",
      "sanity check done\n",
      "common homozygote position done\n",
      "index1: 0, index2: 3\n",
      "extracting gt done\n",
      "sanity check done\n",
      "common homozygote position done\n",
      "index1: 0, index2: 2\n",
      "extracting gt done\n",
      "sanity check done\n",
      "common homozygote position done\n",
      "index1: 1, index2: 3\n",
      "extracting gt done\n",
      "sanity check done\n",
      "common homozygote position done\n",
      "index1: 1, index2: 2\n",
      "extracting gt done\n",
      "sanity check done\n",
      "common homozygote position done\n",
      "index1: 3, index2: 2\n",
      "extracting gt done\n",
      "sanity check done\n",
      "common homozygote position done\n"
     ]
    },
    {
     "name": "stderr",
     "output_type": "stream",
     "text": [
      " 77%|███████▋  | 17/22 [00:04<00:01,  3.70it/s]"
     ]
    },
    {
     "name": "stdout",
     "output_type": "stream",
     "text": [
      "extracting bp position done\n",
      "index1: 0, index2: 1\n",
      "extracting gt done\n",
      "sanity check done\n",
      "common homozygote position done\n",
      "index1: 0, index2: 3\n",
      "extracting gt done\n",
      "sanity check done\n",
      "common homozygote position done\n",
      "index1: 0, index2: 2\n",
      "extracting gt done\n",
      "sanity check done\n",
      "common homozygote position done\n",
      "index1: 1, index2: 3\n",
      "extracting gt done\n",
      "sanity check done\n",
      "common homozygote position done\n",
      "index1: 1, index2: 2\n",
      "extracting gt done\n",
      "sanity check done\n",
      "common homozygote position done\n",
      "index1: 3, index2: 2\n",
      "extracting gt done\n",
      "sanity check done\n",
      "common homozygote position done\n"
     ]
    },
    {
     "name": "stderr",
     "output_type": "stream",
     "text": [
      " 82%|████████▏ | 18/22 [00:04<00:01,  3.77it/s]"
     ]
    },
    {
     "name": "stdout",
     "output_type": "stream",
     "text": [
      "extracting bp position done\n",
      "index1: 0, index2: 1\n",
      "extracting gt done\n",
      "sanity check done\n",
      "common homozygote position done\n",
      "index1: 0, index2: 3\n",
      "extracting gt done\n",
      "sanity check done\n",
      "common homozygote position done\n",
      "index1: 0, index2: 2\n",
      "extracting gt done\n",
      "sanity check done\n",
      "common homozygote position done\n",
      "index1: 1, index2: 3\n",
      "extracting gt done\n",
      "sanity check done\n",
      "common homozygote position done\n",
      "index1: 1, index2: 2\n",
      "extracting gt done\n",
      "sanity check done\n",
      "common homozygote position done\n",
      "index1: 3, index2: 2\n",
      "extracting gt done\n",
      "sanity check done\n",
      "common homozygote position done\n"
     ]
    },
    {
     "name": "stderr",
     "output_type": "stream",
     "text": [
      " 86%|████████▋ | 19/22 [00:04<00:00,  3.84it/s]"
     ]
    },
    {
     "name": "stdout",
     "output_type": "stream",
     "text": [
      "extracting bp position done\n",
      "index1: 0, index2: 1\n",
      "extracting gt done\n",
      "sanity check done\n",
      "common homozygote position done\n",
      "index1: 0, index2: 3\n",
      "extracting gt done\n",
      "sanity check done\n",
      "common homozygote position done\n",
      "index1: 0, index2: 2\n",
      "extracting gt done\n",
      "sanity check done\n",
      "common homozygote position done\n",
      "index1: 1, index2: 3\n",
      "extracting gt done\n",
      "sanity check done\n",
      "common homozygote position done\n",
      "index1: 1, index2: 2\n",
      "extracting gt done\n",
      "sanity check done\n",
      "common homozygote position done\n",
      "index1: 3, index2: 2\n",
      "extracting gt done\n",
      "sanity check done\n",
      "common homozygote position done\n"
     ]
    },
    {
     "name": "stderr",
     "output_type": "stream",
     "text": [
      " 91%|█████████ | 20/22 [00:05<00:00,  3.89it/s]"
     ]
    },
    {
     "name": "stdout",
     "output_type": "stream",
     "text": [
      "extracting bp position done\n",
      "index1: 0, index2: 1\n",
      "extracting gt done\n",
      "sanity check done\n",
      "common homozygote position done\n",
      "index1: 0, index2: 3\n",
      "extracting gt done\n",
      "sanity check done\n",
      "common homozygote position done\n",
      "index1: 0, index2: 2\n",
      "extracting gt done\n",
      "sanity check done\n",
      "common homozygote position done\n",
      "index1: 1, index2: 3\n",
      "extracting gt done\n",
      "sanity check done\n",
      "common homozygote position done\n",
      "index1: 1, index2: 2\n",
      "extracting gt done\n",
      "sanity check done\n",
      "common homozygote position done\n",
      "index1: 3, index2: 2\n",
      "extracting gt done\n",
      "sanity check done\n",
      "common homozygote position done\n"
     ]
    },
    {
     "name": "stderr",
     "output_type": "stream",
     "text": [
      " 95%|█████████▌| 21/22 [00:05<00:00,  3.97it/s]"
     ]
    },
    {
     "name": "stdout",
     "output_type": "stream",
     "text": [
      "extracting bp position done\n",
      "index1: 0, index2: 1\n",
      "extracting gt done\n",
      "sanity check done\n",
      "common homozygote position done\n",
      "index1: 0, index2: 3\n",
      "extracting gt done\n",
      "sanity check done\n",
      "common homozygote position done\n",
      "index1: 0, index2: 2\n",
      "extracting gt done\n",
      "sanity check done\n",
      "common homozygote position done\n",
      "index1: 1, index2: 3\n",
      "extracting gt done\n",
      "sanity check done\n",
      "common homozygote position done\n",
      "index1: 1, index2: 2\n",
      "extracting gt done\n",
      "sanity check done\n",
      "common homozygote position done\n",
      "index1: 3, index2: 2\n",
      "extracting gt done\n",
      "sanity check done\n",
      "common homozygote position done\n"
     ]
    },
    {
     "name": "stderr",
     "output_type": "stream",
     "text": [
      "100%|██████████| 22/22 [00:05<00:00,  4.04it/s]"
     ]
    },
    {
     "name": "stdout",
     "output_type": "stream",
     "text": [
      "pre-computation finished, takes 5.447493076324463s\n"
     ]
    },
    {
     "name": "stderr",
     "output_type": "stream",
     "text": [
      "\n"
     ]
    }
   ],
   "source": [
    "from plot_utility import get_individual_idx, calc_FP_all\n",
    "import numpy as np\n",
    "from collections import defaultdict\n",
    "import time\n",
    "import h5py\n",
    "import itertools\n",
    "from tqdm import tqdm\n",
    "\n",
    "\n",
    "path2HDF5 = '/mnt/archgen/users/yilei/IBDsim/groundtruth_IBD_glimpse_transversion/MAC0/hdf5'\n",
    "iids = ['I2105', 'I3950', 'I5279', 'I5273']\n",
    "\n",
    "t1 = time.time()\n",
    "bp_vec = {}\n",
    "homo_index = defaultdict(lambda:{})\n",
    "oppoHomo_index = defaultdict(lambda:{})\n",
    "for ch in tqdm(np.arange(1,23)):\n",
    "    f = h5py.File(f'{path2HDF5}/ch{ch}.h5', 'r')\n",
    "    filterByAF = np.where(np.array(f['variants/RAF'][:,0])>0.1)[0]\n",
    "    bp_vec[ch] = np.array(f['variants/POS'])[filterByAF]\n",
    "    print(f'extracting bp position done', flush=True)\n",
    "    for id1, id2 in itertools.combinations(iids, 2):\n",
    "        index1, index2 = get_individual_idx(f, id1), get_individual_idx(f, id2)\n",
    "        print(f'index1: {index1}, index2: {index2}', flush=True)\n",
    "        gt1 = f['calldata/GT'][:, index1, :]\n",
    "        gt2 = f['calldata/GT'][:, index2, :]\n",
    "        gt1 = np.sum(gt1[filterByAF], axis=1)\n",
    "        gt2 = np.sum(gt2[filterByAF], axis=1)\n",
    "        #gt1 = np.sum(f['calldata/GT'][filterByAF, index1, :], axis=1)\n",
    "        #gt2 = np.sum(f['calldata/GT'][filterByAF, index2, :], axis=1)\n",
    "        print('extracting gt done', flush=True)\n",
    "        assert(len(gt1) == len(gt2))\n",
    "        assert(len(gt1) == len(bp_vec[ch]))\n",
    "        print(f'sanity check done')\n",
    "        homo_index[(min(id1, id2), max(id1, id2))][ch] = np.where(np.logical_and(np.logical_or(gt1==0, gt1==2), np.logical_or(gt2==0, gt2==2)))[0]\n",
    "        oppoHomo_index[(min(id1, id2), max(id1, id2))][ch] = np.where(np.logical_or(np.logical_and(gt1==0, gt2==2), np.logical_and(gt1==2, gt2==0)))[0]\n",
    "        print(f'common homozygote position done', flush=True)\n",
    "    f.close()\n",
    "\n",
    "print(f'pre-computation finished, takes {time.time()-t1}s', flush=True)\n"
   ]
  }
 ],
 "metadata": {
  "kernelspec": {
   "display_name": "Python 3.8.8",
   "language": "python",
   "name": "python3"
  },
  "language_info": {
   "codemirror_mode": {
    "name": "ipython",
    "version": 3
   },
   "file_extension": ".py",
   "mimetype": "text/x-python",
   "name": "python",
   "nbconvert_exporter": "python",
   "pygments_lexer": "ipython3",
   "version": "3.8.8"
  },
  "orig_nbformat": 4,
  "vscode": {
   "interpreter": {
    "hash": "5756764457d24b1cfb14d02a870309dc3170b710c59f2ff952b936d418e69eda"
   }
  }
 },
 "nbformat": 4,
 "nbformat_minor": 2
}
