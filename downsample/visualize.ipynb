{
 "cells": [
  {
   "cell_type": "markdown",
   "metadata": {},
   "source": []
  },
  {
   "cell_type": "markdown",
   "metadata": {},
   "source": [
    "# visualize inferred IBD segments"
   ]
  },
  {
   "cell_type": "code",
   "execution_count": 1,
   "metadata": {},
   "outputs": [],
   "source": [
    "import sys\n",
    "sys.path.append(\"/mnt/archgen/users/yilei/tools/hapBLOCK/python3/\")   "
   ]
  },
  {
   "cell_type": "code",
   "execution_count": null,
   "metadata": {},
   "outputs": [],
   "source": [
    "from plot.plot_posterior import plot_posterior_7States_plusGeno\n",
    "\n",
    "for b in range(1, 51):\n",
    "        plot_posterior_7States_plusGeno(f\"./callIBD/cov5/batch{b}/hapBLOCK_IBD2/I2105_I3950/I2105_I3950/chr4\", start=170, end=200, iids=[\"I2105\", \"I3950\"], \\\n",
    "        path2hdf5=f\"./callIBD/cov5/batch{b}/processed/ch\", ch=4, prefix=\"geno\")"
   ]
  },
  {
   "cell_type": "code",
   "execution_count": null,
   "metadata": {},
   "outputs": [],
   "source": [
    "from plot.plot_posterior import plot_posterior_7States_plusGeno\n",
    "\n",
    "for b in range(1, 51):\n",
    "        plot_posterior_7States_plusGeno(f\"./callIBD/cov5/batch{b}/hapBLOCK/I2105_I5273/I2105_I5273/chr14\", start=35, end=55, iids=[\"I2105\", \"I5273\"], \\\n",
    "        path2hdf5=f\"./callIBD/cov5/batch{b}/processed/ch\", ch=14, prefix=\"geno\")"
   ]
  },
  {
   "cell_type": "code",
   "execution_count": 3,
   "metadata": {},
   "outputs": [
    {
     "name": "stdout",
     "output_type": "stream",
     "text": [
      "Filtering to 0.99 GP variants: 0.980x\n",
      "Filtering to 0.99 GP variants: 0.980x\n",
      "Filtering to common GP variants: 0.963x\n",
      "Filtering to 0.99 GP variants: 0.981x\n",
      "Filtering to 0.99 GP variants: 0.982x\n",
      "Filtering to common GP variants: 0.964x\n",
      "Filtering to 0.99 GP variants: 0.979x\n",
      "Filtering to 0.99 GP variants: 0.982x\n",
      "Filtering to common GP variants: 0.963x\n",
      "Filtering to 0.99 GP variants: 0.981x\n",
      "Filtering to 0.99 GP variants: 0.980x\n",
      "Filtering to common GP variants: 0.963x\n",
      "Filtering to 0.99 GP variants: 0.978x\n",
      "Filtering to 0.99 GP variants: 0.981x\n",
      "Filtering to common GP variants: 0.962x\n",
      "Filtering to 0.99 GP variants: 0.981x\n",
      "Filtering to 0.99 GP variants: 0.981x\n",
      "Filtering to common GP variants: 0.964x\n",
      "Filtering to 0.99 GP variants: 0.980x\n",
      "Filtering to 0.99 GP variants: 0.982x\n",
      "Filtering to common GP variants: 0.965x\n",
      "Filtering to 0.99 GP variants: 0.980x\n",
      "Filtering to 0.99 GP variants: 0.980x\n",
      "Filtering to common GP variants: 0.962x\n",
      "Filtering to 0.99 GP variants: 0.980x\n",
      "Filtering to 0.99 GP variants: 0.980x\n",
      "Filtering to common GP variants: 0.963x\n",
      "Filtering to 0.99 GP variants: 0.979x\n",
      "Filtering to 0.99 GP variants: 0.982x\n",
      "Filtering to common GP variants: 0.963x\n",
      "Filtering to 0.99 GP variants: 0.981x\n",
      "Filtering to 0.99 GP variants: 0.981x\n",
      "Filtering to common GP variants: 0.965x\n",
      "Filtering to 0.99 GP variants: 0.981x\n",
      "Filtering to 0.99 GP variants: 0.982x\n",
      "Filtering to common GP variants: 0.965x\n",
      "Filtering to 0.99 GP variants: 0.979x\n",
      "Filtering to 0.99 GP variants: 0.981x\n",
      "Filtering to common GP variants: 0.962x\n",
      "Filtering to 0.99 GP variants: 0.980x\n",
      "Filtering to 0.99 GP variants: 0.981x\n",
      "Filtering to common GP variants: 0.963x\n",
      "Filtering to 0.99 GP variants: 0.981x\n",
      "Filtering to 0.99 GP variants: 0.980x\n",
      "Filtering to common GP variants: 0.963x\n",
      "Filtering to 0.99 GP variants: 0.980x\n",
      "Filtering to 0.99 GP variants: 0.980x\n",
      "Filtering to common GP variants: 0.963x\n",
      "Filtering to 0.99 GP variants: 0.977x\n",
      "Filtering to 0.99 GP variants: 0.981x\n",
      "Filtering to common GP variants: 0.961x\n",
      "Filtering to 0.99 GP variants: 0.981x\n",
      "Filtering to 0.99 GP variants: 0.983x\n",
      "Filtering to common GP variants: 0.965x\n",
      "Filtering to 0.99 GP variants: 0.981x\n",
      "Filtering to 0.99 GP variants: 0.982x\n",
      "Filtering to common GP variants: 0.965x\n",
      "Filtering to 0.99 GP variants: 0.980x\n",
      "Filtering to 0.99 GP variants: 0.982x\n",
      "Filtering to common GP variants: 0.964x\n",
      "Filtering to 0.99 GP variants: 0.978x\n",
      "Filtering to 0.99 GP variants: 0.982x\n",
      "Filtering to common GP variants: 0.962x\n",
      "Filtering to 0.99 GP variants: 0.981x\n",
      "Filtering to 0.99 GP variants: 0.982x\n",
      "Filtering to common GP variants: 0.965x\n",
      "Filtering to 0.99 GP variants: 0.980x\n",
      "Filtering to 0.99 GP variants: 0.980x\n",
      "Filtering to common GP variants: 0.962x\n",
      "Filtering to 0.99 GP variants: 0.980x\n",
      "Filtering to 0.99 GP variants: 0.981x\n",
      "Filtering to common GP variants: 0.964x\n",
      "Filtering to 0.99 GP variants: 0.981x\n",
      "Filtering to 0.99 GP variants: 0.982x\n",
      "Filtering to common GP variants: 0.965x\n",
      "Filtering to 0.99 GP variants: 0.980x\n",
      "Filtering to 0.99 GP variants: 0.981x\n",
      "Filtering to common GP variants: 0.963x\n",
      "Filtering to 0.99 GP variants: 0.978x\n",
      "Filtering to 0.99 GP variants: 0.980x\n",
      "Filtering to common GP variants: 0.961x\n",
      "Filtering to 0.99 GP variants: 0.978x\n",
      "Filtering to 0.99 GP variants: 0.981x\n",
      "Filtering to common GP variants: 0.961x\n",
      "Filtering to 0.99 GP variants: 0.979x\n",
      "Filtering to 0.99 GP variants: 0.979x\n",
      "Filtering to common GP variants: 0.961x\n",
      "Filtering to 0.99 GP variants: 0.979x\n",
      "Filtering to 0.99 GP variants: 0.982x\n",
      "Filtering to common GP variants: 0.963x\n",
      "Filtering to 0.99 GP variants: 0.979x\n",
      "Filtering to 0.99 GP variants: 0.982x\n",
      "Filtering to common GP variants: 0.964x\n",
      "Filtering to 0.99 GP variants: 0.981x\n",
      "Filtering to 0.99 GP variants: 0.982x\n",
      "Filtering to common GP variants: 0.964x\n",
      "Filtering to 0.99 GP variants: 0.981x\n",
      "Filtering to 0.99 GP variants: 0.981x\n",
      "Filtering to common GP variants: 0.964x\n",
      "Filtering to 0.99 GP variants: 0.980x\n",
      "Filtering to 0.99 GP variants: 0.981x\n",
      "Filtering to common GP variants: 0.964x\n",
      "Filtering to 0.99 GP variants: 0.981x\n",
      "Filtering to 0.99 GP variants: 0.981x\n",
      "Filtering to common GP variants: 0.964x\n",
      "Filtering to 0.99 GP variants: 0.981x\n",
      "Filtering to 0.99 GP variants: 0.980x\n",
      "Filtering to common GP variants: 0.963x\n",
      "Filtering to 0.99 GP variants: 0.981x\n",
      "Filtering to 0.99 GP variants: 0.981x\n",
      "Filtering to common GP variants: 0.964x\n",
      "Filtering to 0.99 GP variants: 0.981x\n",
      "Filtering to 0.99 GP variants: 0.981x\n",
      "Filtering to common GP variants: 0.964x\n",
      "Filtering to 0.99 GP variants: 0.980x\n",
      "Filtering to 0.99 GP variants: 0.981x\n",
      "Filtering to common GP variants: 0.963x\n",
      "Filtering to 0.99 GP variants: 0.980x\n",
      "Filtering to 0.99 GP variants: 0.981x\n",
      "Filtering to common GP variants: 0.963x\n",
      "Filtering to 0.99 GP variants: 0.979x\n",
      "Filtering to 0.99 GP variants: 0.982x\n",
      "Filtering to common GP variants: 0.964x\n",
      "Filtering to 0.99 GP variants: 0.980x\n",
      "Filtering to 0.99 GP variants: 0.982x\n",
      "Filtering to common GP variants: 0.964x\n",
      "Filtering to 0.99 GP variants: 0.979x\n",
      "Filtering to 0.99 GP variants: 0.982x\n",
      "Filtering to common GP variants: 0.963x\n",
      "Filtering to 0.99 GP variants: 0.981x\n",
      "Filtering to 0.99 GP variants: 0.980x\n",
      "Filtering to common GP variants: 0.964x\n",
      "Filtering to 0.99 GP variants: 0.980x\n",
      "Filtering to 0.99 GP variants: 0.981x\n",
      "Filtering to common GP variants: 0.963x\n",
      "Filtering to 0.99 GP variants: 0.980x\n",
      "Filtering to 0.99 GP variants: 0.981x\n",
      "Filtering to common GP variants: 0.963x\n",
      "Filtering to 0.99 GP variants: 0.981x\n",
      "Filtering to 0.99 GP variants: 0.981x\n",
      "Filtering to common GP variants: 0.964x\n",
      "Filtering to 0.99 GP variants: 0.979x\n",
      "Filtering to 0.99 GP variants: 0.980x\n",
      "Filtering to common GP variants: 0.961x\n",
      "Filtering to 0.99 GP variants: 0.979x\n",
      "Filtering to 0.99 GP variants: 0.981x\n",
      "Filtering to common GP variants: 0.962x\n",
      "Filtering to 0.99 GP variants: 0.980x\n",
      "Filtering to 0.99 GP variants: 0.981x\n",
      "Filtering to common GP variants: 0.963x\n"
     ]
    },
    {
     "data": {
      "text/plain": [
       "<Figure size 432x288 with 0 Axes>"
      ]
     },
     "metadata": {},
     "output_type": "display_data"
    }
   ],
   "source": [
    "from plot.plot_posterior import plot_posterior_7States_plusGeno\n",
    "\n",
    "for b in range(1, 51):\n",
    "        plot_posterior_7States_plusGeno(f\"./callIBD/cov5/batch{b}/hapBLOCK/I2105_I5273/I2105_I5273/chr19\", start=10, end=30, iids=[\"I2105\", \"I5273\"], \\\n",
    "        path2hdf5=f\"./callIBD/cov5/batch{b}/processed/ch\", ch=19, prefix=\"geno\")"
   ]
  },
  {
   "cell_type": "code",
   "execution_count": 12,
   "metadata": {},
   "outputs": [
    {
     "name": "stdout",
     "output_type": "stream",
     "text": [
      "Filtering to 0.99 GP variants: 0.961x\n",
      "Filtering to 0.99 GP variants: 0.958x\n",
      "Filtering to common GP variants: 0.929x\n"
     ]
    },
    {
     "data": {
      "text/plain": [
       "<Figure size 432x288 with 0 Axes>"
      ]
     },
     "metadata": {},
     "output_type": "display_data"
    }
   ],
   "source": [
    "from plot.plot_posterior import plot_posterior_7States_plusGeno\n",
    "plot_posterior_7States_plusGeno(\"./callIBD/cov1/batch1/hapBLOCK/I2105_I5273/I2105_I5273/chr6\", start=135, end=165, iids=[\"I2105\", \"I5273\"], \\\n",
    "        path2hdf5=\"./callIBD/cov1/batch1/processed/ch\", ch=6, prefix=\"geno\")"
   ]
  },
  {
   "cell_type": "code",
   "execution_count": 13,
   "metadata": {},
   "outputs": [
    {
     "name": "stdout",
     "output_type": "stream",
     "text": [
      "Filtering to 0.99 GP variants: 0.982x\n",
      "Filtering to 0.99 GP variants: 0.985x\n",
      "Filtering to common GP variants: 0.969x\n"
     ]
    },
    {
     "data": {
      "text/plain": [
       "<Figure size 432x288 with 0 Axes>"
      ]
     },
     "metadata": {},
     "output_type": "display_data"
    }
   ],
   "source": [
    "from plot.plot_posterior import plot_posterior_7States_plusGeno\n",
    "plot_posterior_7States_plusGeno(\"./callIBD/cov1/batch1/hapBLOCK/I3388_I5279/I3388_I5279/chr4\", start=0, end=25, iids=[\"I3388\", \"I5279\"], \\\n",
    "        path2hdf5=\"./callIBD/cov5/batch1/processed/ch\", ch=4, prefix=\"geno\")"
   ]
  },
  {
   "cell_type": "code",
   "execution_count": 14,
   "metadata": {},
   "outputs": [
    {
     "name": "stdout",
     "output_type": "stream",
     "text": [
      "Filtering to 0.99 GP variants: 0.987x\n",
      "Filtering to 0.99 GP variants: 0.985x\n",
      "Filtering to common GP variants: 0.973x\n"
     ]
    },
    {
     "data": {
      "text/plain": [
       "<Figure size 432x288 with 0 Axes>"
      ]
     },
     "metadata": {},
     "output_type": "display_data"
    }
   ],
   "source": [
    "from plot.plot_posterior import plot_posterior_7States_plusGeno\n",
    "plot_posterior_7States_plusGeno(\"./callIBD/cov1/batch1/hapBLOCK/I3950_I5273/I3950_I5273/chr5\", start=90, end=130, iids=[\"I3950\", \"I5273\"], \\\n",
    "        path2hdf5=\"./callIBD/cov5/batch1/processed/ch\", ch=5, prefix=\"geno\")"
   ]
  },
  {
   "cell_type": "code",
   "execution_count": 15,
   "metadata": {},
   "outputs": [
    {
     "name": "stdout",
     "output_type": "stream",
     "text": [
      "Filtering to 0.99 GP variants: 0.984x\n",
      "Filtering to 0.99 GP variants: 0.985x\n",
      "Filtering to common GP variants: 0.971x\n"
     ]
    },
    {
     "data": {
      "text/plain": [
       "<Figure size 432x288 with 0 Axes>"
      ]
     },
     "metadata": {},
     "output_type": "display_data"
    }
   ],
   "source": [
    "from plot.plot_posterior import plot_posterior_7States_plusGeno\n",
    "plot_posterior_7States_plusGeno(\"./callIBD/cov1/batch1/hapBLOCK/I5273_I5279/I5273_I5279/chr4\", start=65, end=100, iids=[\"I5273\", \"I5279\"], \\\n",
    "        path2hdf5=\"./callIBD/cov5/batch1/processed/ch\", ch=4, prefix=\"geno\")"
   ]
  },
  {
   "cell_type": "code",
   "execution_count": 4,
   "metadata": {},
   "outputs": [
    {
     "name": "stdout",
     "output_type": "stream",
     "text": [
      "Filtering to 0.99 GP variants: 0.922x\n",
      "Filtering to 0.99 GP variants: 0.925x\n",
      "Filtering to common GP variants: 0.870x\n"
     ]
    },
    {
     "data": {
      "text/plain": [
       "<Figure size 432x288 with 0 Axes>"
      ]
     },
     "metadata": {},
     "output_type": "display_data"
    }
   ],
   "source": [
    "from plot.plot_posterior import plot_posterior_7States_plusGeno\n",
    "plot_posterior_7States_plusGeno(\"./callIBD/cov1over2/batch2/hapBLOCK/I5273_I5279/I5273_I5279/chr3\", start=170, end=190, iids=[\"I5273\", \"I5279\"], \\\n",
    "        path2hdf5=\"./callIBD/cov1over2/batch2/processed/ch\", ch=3, prefix=\"geno\")"
   ]
  },
  {
   "cell_type": "markdown",
   "metadata": {},
   "source": [
    "# visualize hapBLOCK on all 1000G MAF5 sites"
   ]
  },
  {
   "cell_type": "code",
   "execution_count": 3,
   "metadata": {},
   "outputs": [
    {
     "name": "stdout",
     "output_type": "stream",
     "text": [
      "Filtering to 0.99 GP variants: 0.997x\n",
      "Filtering to 0.99 GP variants: 0.997x\n",
      "Filtering to common GP variants: 0.994x\n"
     ]
    },
    {
     "data": {
      "text/plain": [
       "<Figure size 432x288 with 0 Axes>"
      ]
     },
     "metadata": {},
     "output_type": "display_data"
    }
   ],
   "source": [
    "from plot.plot_posterior import plot_posterior_7States_plusGeno\n",
    "plot_posterior_7States_plusGeno(\"./callIBD/cov5/batch2/hapBLOCK_wgs/I2105_I3950/I2105_I3950/chr2\", start=0, end=25, iids=[\"I2105\", \"I3950\"], \\\n",
    "        path2hdf5=\"./callIBD/cov5/batch2/processed_wgs/ch\", ch=2, prefix=\"geno\")"
   ]
  },
  {
   "cell_type": "code",
   "execution_count": 4,
   "metadata": {},
   "outputs": [
    {
     "name": "stdout",
     "output_type": "stream",
     "text": [
      "Filtering to 0.99 GP variants: 0.997x\n",
      "Filtering to 0.99 GP variants: 0.996x\n",
      "Filtering to common GP variants: 0.993x\n"
     ]
    },
    {
     "data": {
      "text/plain": [
       "<Figure size 432x288 with 0 Axes>"
      ]
     },
     "metadata": {},
     "output_type": "display_data"
    }
   ],
   "source": [
    "from plot.plot_posterior import plot_posterior_7States_plusGeno\n",
    "plot_posterior_7States_plusGeno(\"./callIBD/cov5/batch1/hapBLOCK_wgs/I2105_I3950/I2105_I3950/chr7\", start=150, end=175, iids=[\"I2105\", \"I3950\"], \\\n",
    "        path2hdf5=\"./callIBD/cov5/batch1/processed_wgs/ch\", ch=7, prefix=\"geno\")"
   ]
  },
  {
   "cell_type": "code",
   "execution_count": 6,
   "metadata": {},
   "outputs": [
    {
     "name": "stdout",
     "output_type": "stream",
     "text": [
      "Filtering to 0.99 GP variants: 0.997x\n",
      "Filtering to 0.99 GP variants: 0.997x\n",
      "Filtering to common GP variants: 0.993x\n"
     ]
    },
    {
     "data": {
      "text/plain": [
       "<Figure size 432x288 with 0 Axes>"
      ]
     },
     "metadata": {},
     "output_type": "display_data"
    }
   ],
   "source": [
    "from plot.plot_posterior import plot_posterior_7States_plusGeno\n",
    "plot_posterior_7States_plusGeno(\"./callIBD/cov5/batch1/hapBLOCK_wgs/I2105_I3950/I2105_I3950/chr9\", start=0, end=15, iids=[\"I2105\", \"I3950\"], \\\n",
    "        path2hdf5=\"./callIBD/cov5/batch1/processed_wgs/ch\", ch=9, prefix=\"geno\")"
   ]
  },
  {
   "cell_type": "code",
   "execution_count": 8,
   "metadata": {},
   "outputs": [
    {
     "name": "stdout",
     "output_type": "stream",
     "text": [
      "Filtering to 0.99 GP variants: 0.996x\n",
      "Filtering to 0.99 GP variants: 0.997x\n",
      "Filtering to common GP variants: 0.994x\n"
     ]
    },
    {
     "data": {
      "text/plain": [
       "<Figure size 432x288 with 0 Axes>"
      ]
     },
     "metadata": {},
     "output_type": "display_data"
    }
   ],
   "source": [
    "from plot.plot_posterior import plot_posterior_7States_plusGeno\n",
    "plot_posterior_7States_plusGeno(\"./callIBD/cov5/batch1/hapBLOCK_wgs/I2105_I3950/I2105_I3950/chr15\", start=30, end=50, iids=[\"I2105\", \"I3950\"], \\\n",
    "        path2hdf5=\"./callIBD/cov5/batch1/processed_wgs/ch\", ch=15, prefix=\"geno\")"
   ]
  },
  {
   "cell_type": "code",
   "execution_count": 4,
   "metadata": {},
   "outputs": [
    {
     "name": "stdout",
     "output_type": "stream",
     "text": [
      "Filtering to 0.99 GP variants: 0.997x\n",
      "Filtering to 0.99 GP variants: 0.997x\n",
      "Filtering to common GP variants: 0.994x\n"
     ]
    },
    {
     "data": {
      "text/plain": [
       "<Figure size 432x288 with 0 Axes>"
      ]
     },
     "metadata": {},
     "output_type": "display_data"
    }
   ],
   "source": [
    "from plot.plot_posterior import plot_posterior_7States_plusGeno\n",
    "plot_posterior_7States_plusGeno(\"./callIBD/cov5/batch1/hapBLOCK_wgs/I2105_I5273/I2105_I5273/chr2\", start=105, end=125, iids=[\"I2105\", \"I5273\"], \\\n",
    "        path2hdf5=\"./callIBD/cov5/batch1/processed_wgs/ch\", ch=2, prefix=\"geno\")"
   ]
  },
  {
   "cell_type": "code",
   "execution_count": 5,
   "metadata": {},
   "outputs": [
    {
     "name": "stdout",
     "output_type": "stream",
     "text": [
      "Filtering to 0.99 GP variants: 0.965x\n",
      "Filtering to 0.99 GP variants: 0.963x\n",
      "Filtering to common GP variants: 0.935x\n"
     ]
    },
    {
     "data": {
      "text/plain": [
       "<Figure size 432x288 with 0 Axes>"
      ]
     },
     "metadata": {},
     "output_type": "display_data"
    }
   ],
   "source": [
    "from plot.plot_posterior import plot_posterior_7States_plusGeno\n",
    "plot_posterior_7States_plusGeno(\"./callIBD/cov1/batch47/hapBLOCK/I3950_I5273/I3950_I5273/chr5\", start=90, end=135, iids=[\"I3950\", \"I5273\"], \\\n",
    "        path2hdf5=\"./callIBD/cov1/batch47/processed_1240k/ch\", ch=5, prefix=\"geno\")"
   ]
  },
  {
   "cell_type": "code",
   "execution_count": 4,
   "metadata": {},
   "outputs": [
    {
     "name": "stdout",
     "output_type": "stream",
     "text": [
      "Filtering to 0.99 GP variants: 0.909x\n",
      "Filtering to 0.99 GP variants: 0.904x\n",
      "Filtering to common GP variants: 0.843x\n"
     ]
    },
    {
     "data": {
      "text/plain": [
       "<Figure size 432x288 with 0 Axes>"
      ]
     },
     "metadata": {},
     "output_type": "display_data"
    }
   ],
   "source": [
    "from plot.plot_posterior import plot_posterior_7States_plusGeno\n",
    "plot_posterior_7States_plusGeno(\"./callIBD/cov1over2/batch1/hapBLOCK/I2105_I5273/I2105_I5273/chr9\", start=140, end=160, iids=[\"I2105\", \"I5273\"], \\\n",
    "        path2hdf5=\"./callIBD/cov1over2/batch1/processed_1240k/ch\", ch=9, prefix=\"geno\")"
   ]
  }
 ],
 "metadata": {
  "interpreter": {
   "hash": "31f2aee4e71d21fbe5cf8b01ff0e069b9275f58929596ceb00d14d90e3e16cd6"
  },
  "kernelspec": {
   "display_name": "Python 3.8.10 64-bit",
   "language": "python",
   "name": "python3"
  },
  "language_info": {
   "codemirror_mode": {
    "name": "ipython",
    "version": 3
   },
   "file_extension": ".py",
   "mimetype": "text/x-python",
   "name": "python",
   "nbconvert_exporter": "python",
   "pygments_lexer": "ipython3",
   "version": "3.8.10"
  },
  "orig_nbformat": 4
 },
 "nbformat": 4,
 "nbformat_minor": 2
}
