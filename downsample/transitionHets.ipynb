{
 "cells": [
  {
   "cell_type": "code",
   "execution_count": 7,
   "metadata": {},
   "outputs": [],
   "source": [
    "import h5py\n",
    "import numpy as np\n",
    "\n",
    "def get_individual_idx(f, iid=\"\", f_col=\"samples\"):\n",
    "        \"\"\"Return index of individual iid\"\"\"\n",
    "        samples = f[f_col].asstr()[:]\n",
    "        idx = (samples == iid)\n",
    "        if np.sum(idx)!=1:\n",
    "            raise RuntimeWarning(f\"{np.sum(idx)} entries found for {iid}\")\n",
    "        assert(np.sum(idx)>0) # Sanity Check\n",
    "        idx=np.where(idx)[0][0]\n",
    "        return idx  \n",
    "\n",
    "def computeHetRate4TransitionSNPs(path2hdf5, sampleID):\n",
    "    f = h5py.File(path2hdf5)\n",
    "    idx = get_individual_idx(f, iid=sampleID)\n",
    "    gt = np.sum(f[\"calldata/GT\"][:,idx,:], axis=1)\n",
    "    ref, alt = f['variants/REF'].asstr()[:], f['variants/ALT'].asstr()[:]\n",
    "    CT = np.logical_or(np.logical_and(ref == 'C', alt == 'T'), np.logical_and(ref == 'T', alt == 'C'))\n",
    "    GA = np.logical_or(np.logical_and(ref == 'G', alt == 'A'), np.logical_and(ref == 'A', alt == 'G'))\n",
    "    transition = np.logical_or(CT, GA)\n",
    "    gt_transition = gt[transition]\n",
    "    gt_transversion = gt[~transition]\n",
    "    #print(f'number of transition site: {len(gt_transition)}')\n",
    "    #print(f'number of transversion site: {len(gt_transversion)}')\n",
    "    return np.sum(gt_transition == 1)/len(gt_transition), np.sum(gt_transversion == 1)/len(gt_transversion)\n",
    "\n",
    "def computeHetsOneBatch(basepath, sampleID):\n",
    "    hets_transition = []\n",
    "    hets_transversion = []\n",
    "    for b in np.arange(1,51):\n",
    "        het1, het2 = computeHetRate4TransitionSNPs(f'{basepath}/batch{b}/processed_1KG_MAF5/ch3.h5', sampleID)\n",
    "        hets_transition.append(het1)\n",
    "        hets_transversion.append(het2)\n",
    "    return hets_transition, hets_transversion"
   ]
  },
  {
   "cell_type": "code",
   "execution_count": 8,
   "metadata": {},
   "outputs": [
    {
     "name": "stdout",
     "output_type": "stream",
     "text": [
      "cov5: 0.2850984281323389, 0.27711847398339107\n",
      "cov2: 0.2817506668802018, 0.27631901222911187\n",
      "cov1: 0.27803894944438834, 0.27402974585207013\n",
      "cov3over4: 0.2761233155652371, 0.2725157864499784\n",
      "cov1over2: 0.273185393632403, 0.26978129822402364\n",
      "cov1over4: 0.26534991573371297, 0.26252431493788325\n",
      "cov1over10: 0.24336701002750558, 0.24154925561731277\n",
      "cov2: 0.24336701002750558, 0.24154925561731277\n",
      "cov1: 0.24336701002750558, 0.24154925561731277\n",
      "cov3over4: 0.24336701002750558, 0.24154925561731277\n",
      "cov1over2: 0.24336701002750558, 0.24154925561731277\n"
     ]
    }
   ],
   "source": [
    "covs = ['cov5', 'cov2', 'cov1', 'cov3over4', 'cov1over2', 'cov1over4', 'cov1over10']\n",
    "sampleID = 'I5279'\n",
    "\n",
    "\n",
    "for cov in covs:\n",
    "    hets_transition, hets_transversion = computeHetsOneBatch(f'/mnt/archgen/users/yilei/IBDsim/downsample/callIBD/wgs/{cov}', sampleID)\n",
    "    print(f'{cov}: {np.mean(hets_transition)}, {np.mean(hets_transversion)}')\n",
    "\n",
    "for cov in covs[1:5]:\n",
    "    hets = computeHetsOneBatch(f'/mnt/archgen/users/yilei/IBDsim/downsample/callIBD/1240k/{cov}', sampleID)\n",
    "    print(f'{cov}: {np.mean(hets_transition)}, {np.mean(hets_transversion)}')\n"
   ]
  }
 ],
 "metadata": {
  "kernelspec": {
   "display_name": "Python 3",
   "language": "python",
   "name": "python3"
  },
  "language_info": {
   "codemirror_mode": {
    "name": "ipython",
    "version": 3
   },
   "file_extension": ".py",
   "mimetype": "text/x-python",
   "name": "python",
   "nbconvert_exporter": "python",
   "pygments_lexer": "ipython3",
   "version": "3.8.10"
  },
  "orig_nbformat": 4,
  "vscode": {
   "interpreter": {
    "hash": "31f2aee4e71d21fbe5cf8b01ff0e069b9275f58929596ceb00d14d90e3e16cd6"
   }
  }
 },
 "nbformat": 4,
 "nbformat_minor": 2
}
